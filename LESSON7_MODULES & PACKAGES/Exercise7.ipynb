{
 "cells": [
  {
   "cell_type": "markdown",
   "id": "65b59dec-9ebd-48b7-a2b8-5fbe3c0a2ff3",
   "metadata": {},
   "source": [
    "# Review Exercise 1"
   ]
  },
  {
   "cell_type": "code",
   "execution_count": 1,
   "id": "3e69eff4-f658-4a21-9f17-c63146413468",
   "metadata": {},
   "outputs": [],
   "source": [
    "def greet(name):\n",
    "    print(f\"Hello {name}!\")"
   ]
  },
  {
   "cell_type": "code",
   "execution_count": 3,
   "id": "e40148a9-10af-4d08-976c-03bfdae5c404",
   "metadata": {},
   "outputs": [
    {
     "name": "stdout",
     "output_type": "stream",
     "text": [
      "Hello Felix!\n"
     ]
    }
   ],
   "source": [
    "greet(\"Felix\")"
   ]
  },
  {
   "cell_type": "markdown",
   "id": "e41a0a6d-3685-4336-9334-c5578a2a7a0c",
   "metadata": {},
   "source": [
    "# Review Question 2"
   ]
  },
  {
   "cell_type": "code",
   "execution_count": null,
   "id": "5b13cd36-07c6-4fcb-a6d1-7ebbb611e030",
   "metadata": {},
   "outputs": [],
   "source": [
    "import os\n",
    "\n",
    "os.makedirs(\"package_exercises/helpers\", exist_ok=True)\n",
    "\n",
    "with open(\"package_exercises/helpers/__init__.py\", \"w\") as f:\n",
    "    pass"
   ]
  }
 ],
 "metadata": {
  "kernelspec": {
   "display_name": "Python [conda env:base] *",
   "language": "python",
   "name": "conda-base-py"
  },
  "language_info": {
   "codemirror_mode": {
    "name": "ipython",
    "version": 3
   },
   "file_extension": ".py",
   "mimetype": "text/x-python",
   "name": "python",
   "nbconvert_exporter": "python",
   "pygments_lexer": "ipython3",
   "version": "3.13.5"
  }
 },
 "nbformat": 4,
 "nbformat_minor": 5
}
