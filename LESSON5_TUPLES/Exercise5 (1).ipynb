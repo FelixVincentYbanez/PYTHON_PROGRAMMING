{
 "cells": [
  {
   "cell_type": "markdown",
   "id": "8fa8e0d2-e403-4eea-8678-c968cbf7ff80",
   "metadata": {},
   "source": [
    "# Review Question 1"
   ]
  },
  {
   "cell_type": "code",
   "execution_count": 1,
   "id": "35d741b6-409f-4d4a-9651-08bae5198e9d",
   "metadata": {},
   "outputs": [],
   "source": [
    "cardinal_numbers = (\"FIRST\", \"SECOND\", \"THIRD\")"
   ]
  },
  {
   "cell_type": "code",
   "execution_count": 2,
   "id": "77f657e9-52a7-4b0f-bd10-d0f65ee0a68f",
   "metadata": {},
   "outputs": [
    {
     "name": "stdout",
     "output_type": "stream",
     "text": [
      "SECOND\n"
     ]
    }
   ],
   "source": [
    "print(cardinal_numbers[1])"
   ]
  },
  {
   "cell_type": "code",
   "execution_count": 3,
   "id": "2b4d5fd3-3876-41fd-914b-9d27caf5f2bd",
   "metadata": {},
   "outputs": [
    {
     "name": "stdout",
     "output_type": "stream",
     "text": [
      "FIRST\n",
      "SECOND\n",
      "THIRD\n"
     ]
    }
   ],
   "source": [
    "position1, position2, position3 = cardinal_numbers\n",
    "print(position1)\n",
    "print(position2)\n",
    "print(position3)"
   ]
  },
  {
   "cell_type": "code",
   "execution_count": 4,
   "id": "d74f5be9-9026-446b-b6e1-a2bcf689c0ac",
   "metadata": {},
   "outputs": [],
   "source": [
    "my_name = tuple(\"FELIX\")"
   ]
  },
  {
   "cell_type": "code",
   "execution_count": 5,
   "id": "58f32011-af46-46a0-99c9-c06135e4dac8",
   "metadata": {},
   "outputs": [
    {
     "name": "stdout",
     "output_type": "stream",
     "text": [
      "True\n"
     ]
    }
   ],
   "source": [
    "print(\"X\" in my_name)\n"
   ]
  },
  {
   "cell_type": "code",
   "execution_count": 8,
   "id": "4cc23f49-376f-4802-a796-fc08e0d77073",
   "metadata": {},
   "outputs": [
    {
     "name": "stdout",
     "output_type": "stream",
     "text": [
      "('E', 'L', 'I', 'X')\n"
     ]
    }
   ],
   "source": [
    "new_tuple = my_name[1:]\n",
    "print(new_tuple)"
   ]
  },
  {
   "cell_type": "markdown",
   "id": "4f97dbd9-7d98-4f9f-83ed-905d7ab93cbc",
   "metadata": {},
   "source": [
    "# Review Question 2"
   ]
  },
  {
   "cell_type": "code",
   "execution_count": 9,
   "id": "993f1027-4dbf-441e-b829-f7f17a1dcabf",
   "metadata": {},
   "outputs": [],
   "source": [
    "food = [\"RICE\", \"BEANS\"]"
   ]
  },
  {
   "cell_type": "code",
   "execution_count": 15,
   "id": "6f647d25-b470-4ca7-958c-c390c6764e15",
   "metadata": {},
   "outputs": [],
   "source": [
    "food.append(\"BROCCOLI\")"
   ]
  },
  {
   "cell_type": "code",
   "execution_count": 16,
   "id": "75551946-1b6b-4c78-b9d3-33339be7d1a8",
   "metadata": {},
   "outputs": [],
   "source": [
    "food.extend([\"BREAD\", \"PIZZA\"])"
   ]
  },
  {
   "cell_type": "code",
   "execution_count": 17,
   "id": "5502f180-0c66-4506-a88e-edf54a93fc0a",
   "metadata": {},
   "outputs": [
    {
     "name": "stdout",
     "output_type": "stream",
     "text": [
      "['RICE', 'BEANS']\n"
     ]
    }
   ],
   "source": [
    "print(food[:2])"
   ]
  },
  {
   "cell_type": "code",
   "execution_count": 18,
   "id": "2804d1fc-9a9e-4496-8d81-970e7a846d1f",
   "metadata": {},
   "outputs": [
    {
     "name": "stdout",
     "output_type": "stream",
     "text": [
      "PIZZA\n"
     ]
    }
   ],
   "source": [
    "print(food[-1])"
   ]
  },
  {
   "cell_type": "code",
   "execution_count": 19,
   "id": "4c904e97-2a04-4dd7-8245-ca1028787708",
   "metadata": {},
   "outputs": [],
   "source": [
    "breakfast = \"EGGS, FRUIT, ORANGE JUICE\".split(\", \")"
   ]
  },
  {
   "cell_type": "code",
   "execution_count": 20,
   "id": "cfdc9a8a-fcad-482e-945e-3561c39aef60",
   "metadata": {},
   "outputs": [
    {
     "name": "stdout",
     "output_type": "stream",
     "text": [
      "3\n"
     ]
    }
   ],
   "source": [
    "print(len(breakfast))"
   ]
  },
  {
   "cell_type": "code",
   "execution_count": 21,
   "id": "f8eccbee-112e-4e54-ad8e-259bd924781a",
   "metadata": {},
   "outputs": [
    {
     "name": "stdout",
     "output_type": "stream",
     "text": [
      "[4, 5, 12]\n"
     ]
    }
   ],
   "source": [
    "lengths = [len(item) for item in breakfast]\n",
    "print(lengths)"
   ]
  },
  {
   "cell_type": "markdown",
   "id": "2d4c1aa2-0cc8-4186-81a7-d00c3c53cb95",
   "metadata": {},
   "source": [
    "# Review Question 3"
   ]
  },
  {
   "cell_type": "code",
   "execution_count": 22,
   "id": "01fa2932-d960-419e-b650-c8e7fa3e2bbb",
   "metadata": {},
   "outputs": [],
   "source": [
    "data = ((1, 2), (3, 4))"
   ]
  },
  {
   "cell_type": "code",
   "execution_count": 23,
   "id": "b0eadb9a-de58-4ed7-9415-4e197c3698e0",
   "metadata": {},
   "outputs": [
    {
     "name": "stdout",
     "output_type": "stream",
     "text": [
      "Row 1 sum: 3\n",
      "Row 2 sum: 7\n"
     ]
    }
   ],
   "source": [
    "for i, row in enumerate(data, start=1):\n",
    "    print(f\"Row {i} sum: {sum(row)}\")"
   ]
  },
  {
   "cell_type": "code",
   "execution_count": 24,
   "id": "fa4298c1-4400-4349-93b6-304c9817b217",
   "metadata": {},
   "outputs": [],
   "source": [
    "numbers = [5, 2, 9, 1, 7]   # example list\n",
    "copy_numbers = numbers[:]"
   ]
  },
  {
   "cell_type": "code",
   "execution_count": 25,
   "id": "c3bdefe5-5e0c-439f-8aae-efa060a477d4",
   "metadata": {},
   "outputs": [
    {
     "name": "stdout",
     "output_type": "stream",
     "text": [
      "[1, 2, 5, 7, 9]\n"
     ]
    }
   ],
   "source": [
    "numbers.sort()\n",
    "print(numbers)"
   ]
  },
  {
   "cell_type": "markdown",
   "id": "9bded442-7830-4724-a3aa-e19427f404e7",
   "metadata": {},
   "source": [
    "# Challenge: List of lists"
   ]
  },
  {
   "cell_type": "code",
   "execution_count": 26,
   "id": "97698403-1de9-42eb-966b-adfbf61dea94",
   "metadata": {},
   "outputs": [
    {
     "name": "stdout",
     "output_type": "stream",
     "text": [
      "Name: California Institute of Technology, Students: 2175, Tuition: 37704\n",
      "Name: Harvard, Students: 19627, Tuition: 39849\n",
      "Name: Massachusetts Institute of Technology, Students: 10566, Tuition: 40732\n",
      "Name: Princeton, Students: 7802, Tuition: 37000\n",
      "Name: Rice, Students: 5879, Tuition: 35551\n",
      "Name: Stanford, Students: 19535, Tuition: 40569\n",
      "Name: Yale, Students: 11701, Tuition: 40500\n"
     ]
    }
   ],
   "source": [
    "universities = [\n",
    "    ['California Institute of Technology', 2175, 37704],\n",
    "    ['Harvard', 19627, 39849],\n",
    "    ['Massachusetts Institute of Technology', 10566, 40732],\n",
    "    ['Princeton', 7802, 37000],\n",
    "    ['Rice', 5879, 35551],\n",
    "    ['Stanford', 19535, 40569],\n",
    "    ['Yale', 11701, 40500]\n",
    "]\n",
    "\n",
    "# Example: print all universities with their data\n",
    "for uni in universities:\n",
    "    print(f\"Name: {uni[0]}, Students: {uni[1]}, Tuition: {uni[2]}\")"
   ]
  },
  {
   "cell_type": "markdown",
   "id": "b3322166-5b78-44bf-a1b6-987c0ce89654",
   "metadata": {},
   "source": [
    "# Challenge: Wax of Poetic"
   ]
  },
  {
   "cell_type": "code",
   "execution_count": 27,
   "id": "bccc2c3d-8038-43fd-acde-ed63c5f786fa",
   "metadata": {},
   "outputs": [],
   "source": [
    "nouns = [\"FOSSIL\", \"HORSE\", \"AARDVARK\", \"JUDGE\", \"CHEF\", \"MANGO\", \"EXTROVERT\", \"GORILLA\"]\n",
    "verbs = [\"KICKS\", \"JINGLES\", \"BOUNCES\", \"SLURPS\", \"MEOWS\", \"EXPLODES\", \"CURDLES\"]\n",
    "adjectives = [\"FURRY\", \"BALDING\", \"INCREDULOUS\", \"FRAGRANT\", \"EXUBERANT\", \"GLISTENING\"]\n",
    "prepositions = [\"AGAINST\", \"AFTER\", \"INTO\", \"BENEATH\", \"UPON\", \"FOR\", \"IN\", \"LIKE\", \"OVER\", \"WITHIN\"]\n",
    "adverbs = [\"CURIOUSLY\", \"FURIOUSLY\", \"SENSUOUSLY\", \"EXTRAVAGANTLY\", \"TANTALIZINGLY\"]"
   ]
  },
  {
   "cell_type": "markdown",
   "id": "5ba1f174-9df1-4552-93b3-b206711fc7a0",
   "metadata": {},
   "source": [
    "# Review Question 4"
   ]
  },
  {
   "cell_type": "code",
   "execution_count": 28,
   "id": "6978a7e6-5824-461e-9543-63f1b8a52dfe",
   "metadata": {},
   "outputs": [],
   "source": [
    "captains = {}"
   ]
  },
  {
   "cell_type": "code",
   "execution_count": 29,
   "id": "fa59404a-9caa-4d0c-bb05-8365ddbe2c75",
   "metadata": {},
   "outputs": [],
   "source": [
    "captains[\"Enterprise\"] = \"Picard\"\n",
    "captains[\"Voyager\"] = \"Janeway\"\n",
    "captains[\"Defiant\"] = \"Sisko\""
   ]
  },
  {
   "cell_type": "code",
   "execution_count": 30,
   "id": "d9e5cc50-3c0c-419d-9466-a5d0b1df7337",
   "metadata": {},
   "outputs": [],
   "source": [
    "if \"Enterprise\" not in captains:\n",
    "    captains[\"Enterprise\"] = \"Unknown\"\n",
    "\n",
    "if \"Discovery\" not in captains:\n",
    "    captains[\"Discovery\"] = \"Unknown\""
   ]
  },
  {
   "cell_type": "code",
   "execution_count": 31,
   "id": "0bccc22b-04af-4688-901a-4136cac62ee6",
   "metadata": {},
   "outputs": [
    {
     "name": "stdout",
     "output_type": "stream",
     "text": [
      "The Enterprise is captained by Picard.\n",
      "The Voyager is captained by Janeway.\n",
      "The Defiant is captained by Sisko.\n",
      "The Discovery is captained by Unknown.\n"
     ]
    }
   ],
   "source": [
    "for ship, captain in captains.items():\n",
    "    print(f\"The {ship} is captained by {captain}.\")"
   ]
  },
  {
   "cell_type": "code",
   "execution_count": 32,
   "id": "73ad3e65-acd6-40d9-8114-2ad797a944b5",
   "metadata": {},
   "outputs": [],
   "source": [
    "del captains[\"Discovery\"]"
   ]
  },
  {
   "cell_type": "code",
   "execution_count": 34,
   "id": "2ccca228-5201-43f9-a41f-a7c27cccb375",
   "metadata": {},
   "outputs": [],
   "source": [
    "captains2 = dict(\n",
    "    Enterprise=\"Picard\",\n",
    "    Voyager=\"Janeway\",\n",
    "    Defiant=\"Sisko\"\n",
    ")"
   ]
  },
  {
   "cell_type": "code",
   "execution_count": 35,
   "id": "536bedd3-b048-424e-a669-6793d731ee55",
   "metadata": {},
   "outputs": [
    {
     "name": "stdout",
     "output_type": "stream",
     "text": [
      "The capital of Alabama is Montgomery.\n",
      "The capital of Alaska is Juneau.\n",
      "The capital of Arizona is Phoenix.\n",
      "The capital of Arkansas is Little Rock.\n",
      "The capital of California is Sacramento.\n",
      "The capital of Colorado is Denver.\n",
      "The capital of Connecticut is Hartford.\n",
      "The capital of Delaware is Dover.\n",
      "The capital of Florida is Tallahassee.\n",
      "The capital of Georgia is Atlanta.\n"
     ]
    }
   ],
   "source": [
    "capitals_dict = {\n",
    "    'Alabama': 'Montgomery',\n",
    "    'Alaska': 'Juneau',\n",
    "    'Arizona': 'Phoenix',\n",
    "    'Arkansas': 'Little Rock',\n",
    "    'California': 'Sacramento',\n",
    "    'Colorado': 'Denver',\n",
    "    'Connecticut': 'Hartford',\n",
    "    'Delaware': 'Dover',\n",
    "    'Florida': 'Tallahassee',\n",
    "    'Georgia': 'Atlanta',\n",
    "}\n",
    "for state, capital in capitals_dict.items():\n",
    "    print(f\"The capital of {state} is {capital}.\")"
   ]
  },
  {
   "cell_type": "code",
   "execution_count": null,
   "id": "746a2f6a-b4b6-4da9-b5de-27a429fd110d",
   "metadata": {},
   "outputs": [],
   "source": []
  }
 ],
 "metadata": {
  "kernelspec": {
   "display_name": "Python [conda env:base] *",
   "language": "python",
   "name": "conda-base-py"
  },
  "language_info": {
   "codemirror_mode": {
    "name": "ipython",
    "version": 3
   },
   "file_extension": ".py",
   "mimetype": "text/x-python",
   "name": "python",
   "nbconvert_exporter": "python",
   "pygments_lexer": "ipython3",
   "version": "3.13.5"
  }
 },
 "nbformat": 4,
 "nbformat_minor": 5
}
