{
 "cells": [
  {
   "cell_type": "markdown",
   "id": "f492d3b9-55d0-4e1d-b88e-1fa671597f96",
   "metadata": {},
   "source": [
    "# Review Question 1"
   ]
  },
  {
   "cell_type": "code",
   "execution_count": 12,
   "id": "96fb97cb-dcdf-4303-a9a3-dcb493eceb11",
   "metadata": {},
   "outputs": [
    {
     "name": "stdout",
     "output_type": "stream",
     "text": [
      "27\n",
      "64\n",
      "125\n"
     ]
    }
   ],
   "source": [
    "def cube(x):\n",
    "    z = x ** 3\n",
    "    return z\n",
    "print (cube(3))\n",
    "print (cube(4))\n",
    "print (cube(5))"
   ]
  },
  {
   "cell_type": "code",
   "execution_count": 17,
   "id": "3c6a7fe8-9631-4a2f-8a8d-d7d2bdab039b",
   "metadata": {},
   "outputs": [
    {
     "name": "stdout",
     "output_type": "stream",
     "text": [
      "Hello, Felix!\n"
     ]
    }
   ],
   "source": [
    "def greet(name):\n",
    "    print(f\"Hello, {name}!\")\n",
    "\n",
    "greet(\"Felix\") "
   ]
  },
  {
   "cell_type": "markdown",
   "id": "b6b0869f-e0e3-4cbf-9abe-185f4860998d",
   "metadata": {},
   "source": [
    "# Review Question 2"
   ]
  },
  {
   "cell_type": "code",
   "execution_count": 36,
   "id": "67351a16-e872-4246-8be9-f4d0ed4ead93",
   "metadata": {},
   "outputs": [
    {
     "name": "stdout",
     "output_type": "stream",
     "text": [
      "Enter a temperature in degrees F: 72\n",
      "72 degrees F = 22.22 degrees C\n"
     ]
    }
   ],
   "source": [
    "def convert_cel_to_far(x):\n",
    "    return (x * 9 / 5) + 32\n",
    "f = 72\n",
    "c = convert_far_to_cel(f)\n",
    "print(f\"Enter a temperature in degrees F: {f}\")\n",
    "print(f\"{f} degrees F = {c:.2f} degrees C\")\n",
    "\n",
    "\n"
   ]
  },
  {
   "cell_type": "code",
   "execution_count": 38,
   "id": "daf5e2a5-73ad-4643-a44f-6adfa956e534",
   "metadata": {},
   "outputs": [
    {
     "name": "stdout",
     "output_type": "stream",
     "text": [
      "Enter a temperature in degrees C: 37\n",
      "37 degrees C = 98.60 degrees F\n"
     ]
    }
   ],
   "source": [
    "def convert_far_to_cel(y):\n",
    "    return (y - 32) * 5 / 9\n",
    "c = 37\n",
    "f = convert_cel_to_far(c)\n",
    "print(f\"Enter a temperature in degrees C: {c}\")\n",
    "print(f\"{c} degrees C = {f:.2f} degrees F\")"
   ]
  },
  {
   "cell_type": "markdown",
   "id": "44993d90-6954-4007-b6c4-6cbeb1b7b420",
   "metadata": {},
   "source": [
    "# Review Question 3"
   ]
  },
  {
   "cell_type": "code",
   "execution_count": 42,
   "id": "755e09c9-3772-44c6-b9c8-ad2a90bb893c",
   "metadata": {},
   "outputs": [
    {
     "name": "stdout",
     "output_type": "stream",
     "text": [
      "2\n",
      "3\n",
      "4\n",
      "5\n",
      "6\n",
      "7\n",
      "8\n",
      "9\n",
      "10\n"
     ]
    }
   ],
   "source": [
    "for x in range(2, 11):\n",
    "    print(x)"
   ]
  },
  {
   "cell_type": "code",
   "execution_count": 50,
   "id": "2bb2dbb9-f455-4cd0-b761-dee0893de8e8",
   "metadata": {},
   "outputs": [
    {
     "name": "stdout",
     "output_type": "stream",
     "text": [
      "1\n",
      "2\n",
      "3\n",
      "4\n",
      "5\n",
      "6\n",
      "7\n",
      "8\n",
      "9\n",
      "10\n"
     ]
    }
   ],
   "source": [
    "n = 1\n",
    "while n <= 10:\n",
    "    print(n)\n",
    "    n = n + 1"
   ]
  },
  {
   "cell_type": "code",
   "execution_count": 58,
   "id": "c7cdbc4d-ba33-4de9-8378-c2ff234bcd36",
   "metadata": {},
   "outputs": [
    {
     "name": "stdout",
     "output_type": "stream",
     "text": [
      "4\n",
      "8\n",
      "16\n"
     ]
    }
   ],
   "source": [
    "def double(x):\n",
    "    return x * 2\n",
    "num = 2 \n",
    "for i in range(3):\n",
    "    num = double(num)\n",
    "    print(num)  "
   ]
  },
  {
   "cell_type": "code",
   "execution_count": null,
   "id": "54c61864-cdee-46f2-8617-7e2f9cf32021",
   "metadata": {},
   "outputs": [],
   "source": []
  }
 ],
 "metadata": {
  "kernelspec": {
   "display_name": "Python [conda env:base] *",
   "language": "python",
   "name": "conda-base-py"
  },
  "language_info": {
   "codemirror_mode": {
    "name": "ipython",
    "version": 3
   },
   "file_extension": ".py",
   "mimetype": "text/x-python",
   "name": "python",
   "nbconvert_exporter": "python",
   "pygments_lexer": "ipython3",
   "version": "3.13.5"
  }
 },
 "nbformat": 4,
 "nbformat_minor": 5
}
