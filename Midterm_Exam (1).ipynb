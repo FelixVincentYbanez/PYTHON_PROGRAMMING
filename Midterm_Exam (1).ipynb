{
 "cells": [
  {
   "cell_type": "markdown",
   "id": "05d55ed2-4dbc-499c-a0f5-ae7b85d9e107",
   "metadata": {},
   "source": [
    "# Q1"
   ]
  },
  {
   "cell_type": "markdown",
   "id": "f8c666bc-4c7b-4554-8d9e-a69f7a057c22",
   "metadata": {},
   "source": [
    "# Task:\n",
    "    String Normalizer & Finder. \n",
    "    Write a function normalize_and_find(text: str, needle: str) -> int that: (1) trims whitespace on both ends, (2) converts to lowercase, then (3) returns the index of the first occurrence of needle using a safe search (return −1 if not found). Discuss alternatives (find vs. index), and how your choice affects error handling. Anchor concepts: stripping, case conversion, find/replace, string immutability. Reference: :contentReference[oaicite:6]index=6"
   ]
  },
  {
   "cell_type": "markdown",
   "id": "f299db89-96a3-4297-af6b-82a2a25c2698",
   "metadata": {},
   "source": [
    "# Prompt:\n",
    "    Write a Python function normalize_and_find(text, needle) that trims spaces, ignores case, and returns the index of the search word. Use find() so it returns -1 if not found. Add a quick test."
   ]
  },
  {
   "cell_type": "code",
   "execution_count": 4,
   "id": "361b69bb-fdee-4df8-972b-d45634a59fd2",
   "metadata": {},
   "outputs": [
    {
     "name": "stdout",
     "output_type": "stream",
     "text": [
      "7\n"
     ]
    }
   ],
   "source": [
    "#ChatGPT Code\n",
    "\n",
    "def normalize_and_find(text, needle):\n",
    "    text = text.strip().lower()\n",
    "    needle = needle.lower()\n",
    "    return text.find(needle)\n",
    "\n",
    "print(normalize_and_find(\"   Hello, World!  \", \"world\"))"
   ]
  },
  {
   "cell_type": "markdown",
   "id": "70ce3c70-1921-46a1-bb1c-f163d8675c95",
   "metadata": {},
   "source": [
    "# Critique:\n",
    "    Correctness: The function correctly normalizes text and searches for needle, returning the correct index or -1 if not found.\n",
    "    Complexity: Time complexity is O(n + m), where n is the length of text and m is the length of needle. Space complexity is O(1) since no extra large data structures are created.\n",
    "    Robustness: The function handles typical cases but could be improved with input validation to handle None values for text or needle.\n",
    "    Readability: The code is simple and easy to follow, but a docstring explaining its purpose and adding more test cases would improve clarity.\n",
    "    Faithfulness: The solution uses .strip() and .lower() for normalization and find() for safe searching, as required by the prompt. The behavior matches the spec perfectly."
   ]
  },
  {
   "cell_type": "code",
   "execution_count": 5,
   "id": "b06ed094-5523-4fe0-9cab-d96b8d870a56",
   "metadata": {},
   "outputs": [
    {
     "name": "stdout",
     "output_type": "stream",
     "text": [
      "7\n"
     ]
    }
   ],
   "source": [
    "#Improved Code\n",
    "\n",
    "def normalize_and_find(text, needle):\n",
    "    return text.strip().lower().find(needle.lower())\n",
    "\n",
    "print(normalize_and_find(\"   Hello, World!  \", \"world\"))"
   ]
  },
  {
   "cell_type": "markdown",
   "id": "29d92cff-d4cb-4781-953c-9d1279afe363",
   "metadata": {},
   "source": [
    "# Explaination:\n",
    "    find() is safer because it returns -1 if the word isn't found, without raising an error. index() raises an error if the word is missing, so you need extra code to handle that."
   ]
  },
  {
   "cell_type": "markdown",
   "id": "c94d0ef3-8c71-4fc6-8230-222a3193511b",
   "metadata": {},
   "source": [
    "# Q2"
   ]
  },
  {
   "cell_type": "markdown",
   "id": "518da897-11b7-4f71-a8da-e4ed9c4f9415",
   "metadata": {},
   "source": [
    "# Task:\n",
    "    Leetspeak Translator (Parametric). Generalize our leetspeak idea: write translate(text: str, mapping: dict[str,str]) -> str that applies a mapping (e.g., {’a’:’4’,’e’:’3’,...}) over lowercase letters only, leaving others unchanged. Explain why strings are immutable and show an efficient approach (e.g., list join vs. repeated concatenation). Anchor concepts: replace, iteration strategies, efficiency. Reference: :contentReference[oaicite:7]index=7\n"
   ]
  },
  {
   "cell_type": "markdown",
   "id": "d452a002-dac4-4fef-86aa-03582ec7853a",
   "metadata": {},
   "source": [
    "# Prompt:\n",
    "    Write a Python function translate(text, mapping) that replaces lowercase letters in text using the given mapping dictionary. Characters not in the mapping should stay the same. Return the translated string. Use an efficient method and add a quick test."
   ]
  },
  {
   "cell_type": "code",
   "execution_count": 6,
   "id": "883cc8da-a9b1-4579-95a6-aca84240de1a",
   "metadata": {},
   "outputs": [
    {
     "name": "stdout",
     "output_type": "stream",
     "text": [
      "4ppl3\n"
     ]
    }
   ],
   "source": [
    "#ChatGPT Code\n",
    "\n",
    "def translate(text, mapping):\n",
    "    return \"\".join(mapping.get(char, char) for char in text)\n",
    "\n",
    "print(translate(\"apple\", {'a': '4', 'e': '3'}))"
   ]
  },
  {
   "cell_type": "markdown",
   "id": "d810b48c-9d86-400c-860b-73d4e1b8ecc5",
   "metadata": {},
   "source": [
    "# Critique\n",
    "    Correctness: The function correctly applies the mapping dictionary to replace lowercase letters, leaving other characters unchanged, as specified by the prompt.\n",
    "    Complexity: Time complexity is O(n), where n is the length of text, because the function iterates through the string once. Space complexity is O(n) due to the creation of a new string using \"\".join().\n",
    "    Robustness: The function works for typical inputs but doesn't handle cases where text or mapping could be None. Adding basic input validation would improve robustness.\n",
    "    Readability: The code is concise and easy to read. Using .join() with a generator expression is efficient and clear, making it a good choice for transforming the string.\n",
    "    Faithfulness: The solution adheres to the prompt by using an efficient string-building method (\"\".join()), and the mapping is applied correctly to lowercase letters. The behavior is consistent with the specification."
   ]
  },
  {
   "cell_type": "code",
   "execution_count": 7,
   "id": "a6b506c9-7082-4da6-b4d2-45eb180ee288",
   "metadata": {},
   "outputs": [
    {
     "name": "stdout",
     "output_type": "stream",
     "text": [
      "4ppl3\n"
     ]
    }
   ],
   "source": [
    "#Improved Code\n",
    "\n",
    "def translate(text, mapping):\n",
    "    result = \"\"\n",
    "    for ch in text:\n",
    "        if ch in mapping:\n",
    "            result += mapping[ch]\n",
    "        else:\n",
    "            result += ch\n",
    "    return result\n",
    "\n",
    "print(translate(\"apple\", {'a': '4', 'e': '3'}))"
   ]
  },
  {
   "cell_type": "markdown",
   "id": "a7c75f2b-4735-424d-b21f-7ef12577fe3d",
   "metadata": {},
   "source": [
    "# Explaination:\n",
    "    Strings in Python can’t be changed once created, which helps with safety and memory. Concatenating strings with += is slow, but using a list and then joining is faster."
   ]
  },
  {
   "cell_type": "markdown",
   "id": "68c15b52-48ef-49ee-b0b6-99b6410a6c1c",
   "metadata": {},
   "source": [
    "# Q3"
   ]
  },
  {
   "cell_type": "markdown",
   "id": "be29cd2b-42eb-45c5-8f28-93f491440ab5",
   "metadata": {},
   "source": [
    "# Task: \n",
    "    Currency Formatter & Rounding Ties-to-Even. Write fmt_money(x: float) -> str that returns a string like 1,234.50 using proper rounding (banker’s rounding / ties-to-even). Include test cases that demonstrate ties (e.g., 2.5, 3.5). Explain 2 floating-point representation error and how formatting mitigates it for display. Anchor concepts: numbers, round, representation error, formatted printing. Reference: :contentReference[oaicite:8]index=8"
   ]
  },
  {
   "cell_type": "markdown",
   "id": "2e1f75c5-154a-4352-8fdd-319b449a2155",
   "metadata": {},
   "source": [
    "# Prompt:\n",
    "    Write a Python function fmt_money(x) that returns a float formatted with commas and 2 decimal places using banker’s rounding (round ties to even). Add test cases for 2.5 and 3.5. Explain how formatting helps with floating-point errors."
   ]
  },
  {
   "cell_type": "code",
   "execution_count": 8,
   "id": "389b7da0-c85c-40c1-accc-5406a0b2209a",
   "metadata": {},
   "outputs": [
    {
     "name": "stdout",
     "output_type": "stream",
     "text": [
      "1,234.50\n",
      "2.50\n",
      "3.50\n"
     ]
    }
   ],
   "source": [
    "#ChatGPT Code\n",
    "\n",
    "def fmt_money(x):\n",
    "    rounded = round(x + 1e-8, 2)\n",
    "    whole, dot, decimal = f\"{rounded:.2f}\".partition(\".\")\n",
    "    reversed_whole = whole[::-1]\n",
    "    grouped = [reversed_whole[i:i+3] for i in range(0, len(reversed_whole), 3)]\n",
    "    with_commas = \",\".join(grouped)[::-1]\n",
    "    return with_commas + \".\" + decimal\n",
    "\n",
    "print(fmt_money(1234.5))\n",
    "print(fmt_money(2.5))\n",
    "print(fmt_money(3.5))"
   ]
  },
  {
   "cell_type": "markdown",
   "id": "ec48f2f4-bd6a-47ff-955f-aa368bdda3be",
   "metadata": {},
   "source": [
    "# Critique\n",
    "    Correctness: The function correctly formats numbers with commas and two decimal places, using banker’s rounding. The rounding trick (+ 1e-8) is unnecessary and could cause issues with extreme values.\n",
    "    Complexity: Time complexity is O(n) for string operations. Space complexity is O(n) due to the string manipulations.\n",
    "    Robustness: Handles typical cases well, but no input validation (e.g., for non-numeric inputs) is present.\n",
    "    Readability: Code is functional but can be simplified. The string reversal and grouping for commas are a bit complex.\n",
    "    Faithfulness: Correctly implements banker’s rounding and addresses floating-point representation issues, though a simpler approach could improve clarity."
   ]
  },
  {
   "cell_type": "code",
   "execution_count": 9,
   "id": "9a9f8e9c-b102-4a3f-ae37-d66dc8b18bad",
   "metadata": {},
   "outputs": [
    {
     "name": "stdout",
     "output_type": "stream",
     "text": [
      "1,234.50\n",
      "2.50\n",
      "3.50\n"
     ]
    }
   ],
   "source": [
    "#Improved Code\n",
    "\n",
    "def fmt_money(x):\n",
    "    return f\"{x:,.2f}\"\n",
    "\n",
    "print(fmt_money(1234.5)) \n",
    "print(fmt_money(2.5))    \n",
    "print(fmt_money(3.5))     "
   ]
  },
  {
   "cell_type": "markdown",
   "id": "b840bc43-3525-4268-88db-daa93ac817db",
   "metadata": {},
   "source": [
    "# Explaination:\n",
    "    Floating-point errors happen because computers can’t store decimal numbers perfectly. Formatting like f\"{x:,.2f}\" fixes this by rounding the number to 2 decimal places, so even if there's a tiny error, it shows cleanly (e.g., 2.50 instead of 2.499999)."
   ]
  },
  {
   "cell_type": "markdown",
   "id": "29b360f4-787c-4fe0-8a03-55c26faa8bb5",
   "metadata": {},
   "source": [
    "# Q4"
   ]
  },
  {
   "cell_type": "markdown",
   "id": "7ef6eda7-abfb-4b90-9fa6-e2d43c15f23e",
   "metadata": {},
   "source": [
    "# Task:\n",
    "    Exponent Tool & Input Validation. Create a CLI program exponent.py that reads two values, validates they are numeric, handles errors gracefully (e.g., ValueError), and prints a ** b with clear messages. Compare using try/except vs. pre-validation with str.isdigit() (and why isdigit() is insufficient for negatives/floats). Anchor concepts: arithmetic operators, exceptions, input. Reference: :contentReference[oaicite:9]index=9, :contentReference[oaicite:10]index=10"
   ]
  },
  {
   "cell_type": "markdown",
   "id": "54cae787-e3ba-45e1-9c3c-e485b1bf647d",
   "metadata": {},
   "source": [
    "# Prompt:\n",
    "    Write a CLI program that reads two numbers from input, validates them, and prints a ** b. Use error handling to catch invalid input. Compare try/except with using isdigit() and explain why isdigit() can’t handle negatives or floats well."
   ]
  },
  {
   "cell_type": "code",
   "execution_count": 10,
   "id": "d7164f56-311c-4429-80f1-1f46b2fc2bcc",
   "metadata": {},
   "outputs": [
    {
     "name": "stdin",
     "output_type": "stream",
     "text": [
      "Base:  3\n",
      "Exponent:  4\n"
     ]
    },
    {
     "name": "stdout",
     "output_type": "stream",
     "text": [
      "3.0 ** 4.0 = 81.0\n"
     ]
    }
   ],
   "source": [
    "#ChatGPT Code\n",
    "\n",
    "def get_num(prompt, retries=3):\n",
    "    for _ in range(retries):\n",
    "        val = input(prompt).strip()\n",
    "        if val.lower() == 'q':\n",
    "            exit(\"Quit.\")\n",
    "        try:\n",
    "            return float(val)\n",
    "        except:\n",
    "            print(\"Invalid input.\")\n",
    "    exit(\"Too many tries.\")\n",
    "\n",
    "a = get_num(\"Base: \")\n",
    "b = get_num(\"Exponent: \")\n",
    "try:\n",
    "    print(f\"{a} ** {b} = {a ** b}\")\n",
    "except Exception as e:\n",
    "    print(f\"Error: {e}\")"
   ]
  },
  {
   "cell_type": "markdown",
   "id": "63287e5c-15e8-4395-b708-7a6bf3eeac65",
   "metadata": {},
   "source": [
    "# Critique\n",
    "    Correctness: Works as expected, but the except block is too general. Catch specific exceptions (like ValueError) for clarity.\n",
    "    Complexity: The program is efficient with O(1) time and space complexity for both input handling and exponentiation.\n",
    "    Robustness: Handles invalid input well, but using str.isdigit() could be more limiting for negative numbers and floats. Better to validate input more precisely.\n",
    "    Readability: The code is clear, but could be improved with more specific exception handling and clearer error messages.\n",
    "    Faithfulness: Uses try/except correctly, but comparing it with str.isdigit() would help demonstrate the limitations of isdigit() for non-integer values."
   ]
  },
  {
   "cell_type": "code",
   "execution_count": 11,
   "id": "64c282bf-7c6c-4834-915c-e2bf24e76907",
   "metadata": {},
   "outputs": [
    {
     "name": "stdin",
     "output_type": "stream",
     "text": [
      "Enter the base number:  3\n",
      "Enter the exponent number:  4\n"
     ]
    },
    {
     "name": "stdout",
     "output_type": "stream",
     "text": [
      "3.0 raised to the power of 4.0 is 81.0\n"
     ]
    }
   ],
   "source": [
    "#Improved Code\n",
    "\n",
    "def main():\n",
    "    base = input(\"Enter the base number: \")\n",
    "    exponent = input(\"Enter the exponent number: \")\n",
    "\n",
    "    try:\n",
    "        base = float(base)\n",
    "        exponent = float(exponent) \n",
    "        result = base ** exponent\n",
    "        print(f\"{base} raised to the power of {exponent} is {result}\")\n",
    "    except ValueError:\n",
    "        print(\"Oops! Please enter valid numbers.\")\n",
    "\n",
    "if __name__ == \"__main__\":\n",
    "    main()"
   ]
  },
  {
   "cell_type": "markdown",
   "id": "ad578a98-67d6-484b-9bb7-2af42c1a2423",
   "metadata": {},
   "source": [
    "# Explaination:\n",
    "    Using str.isdigit() just checks if the input is a number made up of digits, so it works fine for positive whole numbers but fails with negative numbers or decimals. On the other hand, try/except tries to convert the input into a number and catches any errors if it’s not valid, so it works for any number, even with decimals or negatives, but it’s a bit more complicated."
   ]
  },
  {
   "cell_type": "markdown",
   "id": "178d07c0-30b0-4911-ae9b-4154836619d4",
   "metadata": {},
   "source": [
    "# Q5"
   ]
  },
  {
   "cell_type": "markdown",
   "id": "433a50a8-89c5-4b84-9cf6-4ea635e179ef",
   "metadata": {},
   "source": [
    "# Task:\n",
    "    Password Policy Checker (If/Elif/Else + Loops). Implement check_password(pw: str) -> dict that validates: length ≥ 10, at least one uppercase, one lowercase, one digit, one symbol in !@#$%^&*, and no spaces. Return a dict of booleans per rule and an overall pass/fail. Include a loop that prompts until a valid password is entered (allow quit with Q/q). Anchor concepts: conditionals, logical operators, loops, break/continue. Reference: :contentReference[oaicite:11]index=11"
   ]
  },
  {
   "cell_type": "markdown",
   "id": "7c3de7d1-e454-470e-92ec-3df610527ec5",
   "metadata": {},
   "source": [
    "# Prompt: \n",
    "    Write a function check_password(pw) that checks a password against multiple rules: length, uppercase, lowercase, digit, symbol, no spaces. Return a dict of booleans for each rule and overall pass/fail. Keep prompting user until password is valid or user quits."
   ]
  },
  {
   "cell_type": "code",
   "execution_count": 12,
   "id": "61ec724c-f622-4d2a-99c1-43537a143484",
   "metadata": {},
   "outputs": [
    {
     "name": "stdin",
     "output_type": "stream",
     "text": [
      "Enter password (Q to quit):  PasswordVali123!\n"
     ]
    },
    {
     "name": "stdout",
     "output_type": "stream",
     "text": [
      "Password valid!\n"
     ]
    }
   ],
   "source": [
    "#ChatGPT Code\n",
    "\n",
    "def check_password(pw):\n",
    "    result = {\n",
    "        \"length\": len(pw) >= 10,\n",
    "        \"uppercase\": any(c.isupper() for c in pw),\n",
    "        \"lowercase\": any(c.islower() for c in pw),\n",
    "        \"digit\": any(c.isdigit() for c in pw),\n",
    "        \"symbol\": any(c in \"!@#$%^&*\" for c in pw),\n",
    "        \"no_spaces\": \" \" not in pw,\n",
    "    }\n",
    "    result[\"passed\"] = all(result.values())\n",
    "    return result\n",
    "\n",
    "while True:\n",
    "    pw = input(\"Enter password (Q to quit): \")\n",
    "    if pw.lower() == \"q\":\n",
    "        break\n",
    "    res = check_password(pw)\n",
    "    if res[\"passed\"]:\n",
    "        print(\"Password valid!\")\n",
    "        break\n",
    "    else:\n",
    "        print(\"Password invalid, check rules:\", res)"
   ]
  },
  {
   "cell_type": "markdown",
   "id": "3cce7afe-5076-4674-a509-e65317fa3ddb",
   "metadata": {},
   "source": [
    "# Critique\n",
    "    Correctness: The function correctly checks the password against the specified rules and returns a dictionary of booleans for each rule, including an overall pass/fail status. The loop effectively prompts the user until a valid password is entered or the user chooses to quit.\n",
    "    Complexity: The time complexity is O(n) for each password check, where n is the length of the password. The space complexity is O(1) since only a fixed number of checks are performed regardless of input size.\n",
    "    Robustness: The function works for typical cases, but it could be improved by handling edge cases like empty passwords. Also, the program does not enforce any limits on the number of attempts before quitting.\n",
    "    Readability: The code is straightforward, but it could benefit from clearer variable names (e.g., pw to password) and comments explaining the checks. The logic is simple and easy to follow.\n",
    "    Faithfulness: The function uses conditionals and logical operators to check the password according to the prompt. The loop correctly prompts until a valid password is entered or the user quits, meeting the requirements of the task."
   ]
  },
  {
   "cell_type": "code",
   "execution_count": 13,
   "id": "5da84e15-dcb4-4ea8-aaed-a80c9538c21b",
   "metadata": {},
   "outputs": [
    {
     "name": "stdin",
     "output_type": "stream",
     "text": [
      "Enter password (Q to quit):  PasswordValid123!\n"
     ]
    },
    {
     "name": "stdout",
     "output_type": "stream",
     "text": [
      "Password valid!\n"
     ]
    }
   ],
   "source": [
    "# Improved Code\n",
    "\n",
    "def check_password(pw):\n",
    "    if len(pw) < 10:\n",
    "        return False\n",
    "    if \" \" in pw:\n",
    "        return False\n",
    "    if not any(c.isupper() for c in pw):\n",
    "        return False\n",
    "    if not any(c.islower() for c in pw):\n",
    "        return False\n",
    "    if not any(c.isdigit() for c in pw):\n",
    "        return False\n",
    "    if not any(c in \"!@#$%^&*\" for c in pw):\n",
    "        return False\n",
    "    return True\n",
    "\n",
    "while True:\n",
    "    pw = input(\"Enter password (Q to quit): \")\n",
    "    if pw.lower() == \"q\":\n",
    "        break\n",
    "    if check_password(pw):\n",
    "        print(\"Password valid!\")\n",
    "        break\n",
    "    else:\n",
    "        print(\"Password invalid. Make sure it’s 10+ chars, has upper & lower case letters, digits, symbols, and no spaces.\")"
   ]
  },
  {
   "cell_type": "markdown",
   "id": "563d5b7d-6da7-4a6b-8bdb-2ee8e45efb38",
   "metadata": {},
   "source": [
    "# Q6"
   ]
  },
  {
   "cell_type": "markdown",
   "id": "9fb34031-3fd7-4ba0-b2a3-e93f2f392348",
   "metadata": {},
   "source": [
    "# Task:\n",
    "    Dice Simulation (Monte Carlo). Write roll() -> int to simulate a fair die, then simulate 100,000 rolls to estimate the probability that the sum of two dice equals 7. Compare empirical result to the exact probability. Comment on random seeding and reproducibility. Anchor concepts: random module, simulation, averages. Reference: :contentReference[oaicite:12]index=12"
   ]
  },
  {
   "cell_type": "markdown",
   "id": "fbc51f5d-a83c-44e3-a18d-dfc489182961",
   "metadata": {},
   "source": [
    "# Prompt:\n",
    "    Write a function roll() to stimulate fair die roll. Then simulate 100,000 rolls and calculate the probability that the sum of two dice equals 7. Compare the result with the exact probability."
   ]
  },
  {
   "cell_type": "code",
   "execution_count": 14,
   "id": "41c6e688-4790-4532-877b-1cd04835a884",
   "metadata": {},
   "outputs": [
    {
     "name": "stdout",
     "output_type": "stream",
     "text": [
      "Empirical Probability of sum = 7: 0.1646\n",
      "Exact Probability of sum = 7: 0.1667\n"
     ]
    }
   ],
   "source": [
    "# ChatGPT Code\n",
    "\n",
    "import random\n",
    "\n",
    "def simulate_rolls(num_rolls=100000):\n",
    "    count_seven = sum(1 for _ in range(num_rolls) if random.randint(1, 6) + random.randint(1, 6) == 7)\n",
    "    return count_seven / num_rolls\n",
    "\n",
    "if __name__ == \"__main__\":\n",
    "    random.seed(42)\n",
    "    empirical_prob = simulate_rolls()\n",
    "    print(f\"Empirical Probability of sum = 7: {empirical_prob:.4f}\")\n",
    "    print(f\"Exact Probability of sum = 7: {1/6:.4f}\")"
   ]
  },
  {
   "cell_type": "markdown",
   "id": "20ba11df-f523-49af-a70a-eadfb062592d",
   "metadata": {},
   "source": [
    "# Critique\n",
    "    Correctness: Correctly simulates dice rolls and calculates the empirical probability of the sum being 7. Compares it with the exact probability.\n",
    "    Complexity: O(n) time complexity for num_rolls rolls, O(1) space.\n",
    "    Robustness: Works well, but the function doesn't handle invalid inputs for num_rolls (e.g., non-integer or negative values).\n",
    "    Readability: Clear code. The use of sum() with a generator expression is efficient and easy to understand.\n",
    "    Faithfulness: Meets the prompt requirements, simulating the rolls and comparing results with the exact probability."
   ]
  },
  {
   "cell_type": "code",
   "execution_count": 15,
   "id": "43d7c80a-d01f-46cc-9027-f4133f575190",
   "metadata": {},
   "outputs": [
    {
     "name": "stdout",
     "output_type": "stream",
     "text": [
      "Empirical Probability of sum = 7: 0.1646\n",
      "Exact Probability of sum = 7: 0.1667\n"
     ]
    }
   ],
   "source": [
    "# Improved Code\n",
    "\n",
    "import random\n",
    "\n",
    "def roll():\n",
    "    return random.randint(1, 6)\n",
    "\n",
    "def simulate_rolls(num_rolls=100000):\n",
    "    count_seven = 0\n",
    "    for _ in range(num_rolls):\n",
    "        if roll() + roll() == 7:\n",
    "            count_seven += 1\n",
    "    return count_seven / num_rolls\n",
    "\n",
    "if __name__ == \"__main__\":\n",
    "    random.seed(42)\n",
    "    empirical_prob = simulate_rolls()\n",
    "    print(f\"Empirical Probability of sum = 7: {empirical_prob:.4f}\")\n",
    "    print(f\"Exact Probability of sum = 7: {6/36:.4f}\")"
   ]
  },
  {
   "cell_type": "markdown",
   "id": "7bcf69cd-e3b1-4d5c-8465-3063a23beb28",
   "metadata": {},
   "source": [
    "# Q7"
   ]
  },
  {
   "cell_type": "markdown",
   "id": "6af668ae-41fd-4deb-95e2-4f55bcfa9884",
   "metadata": {},
   "source": [
    "# Task\n",
    "    OOP: Vehicles with Odometer and Fuel. Design classes Vehicle (base), Car and Truck (children). Each has color, mileage, and fuel_liters. Provide drive(km, km_per_liter) which increments mileage and decreases fuel (never below 0) and refuel(liters). Show how inheritance avoids duplication and add a method override in Truck (e.g., different efficiency). Include a minimal test zscript. Anchor concepts: classes vs. instances, attributes, instance methods, inheritance/override. Reference: :contentReference[oaicite:13]index=13"
   ]
  },
  {
   "cell_type": "markdown",
   "id": "a2978640-f4eb-4bd1-af56-47d5ba4e7a63",
   "metadata": {},
   "source": [
    "# Prompt:\n",
    "    Create a vehicle class with attributes color, mileage, and fuel_liters. Implement drive(km, km_per_liter) to update mileage and decreased fuel, and refuel(liters) to add fuel. Derive Car and Truck classes with different fuel efficiences. Override the drive() method in Truck to reflect its efficiency. Include a test script to check the functionality|"
   ]
  },
  {
   "cell_type": "code",
   "execution_count": 16,
   "id": "af4c4ad9-5a5f-45d2-8282-25e9f95f21e9",
   "metadata": {},
   "outputs": [
    {
     "name": "stdout",
     "output_type": "stream",
     "text": [
      "Initial Status:\n",
      "Color: Red, Mileage: 0 km, Fuel: 50 liters\n",
      "Color: Blue, Mileage: 0 km, Fuel: 100 liters\n",
      "\n",
      "Driving the Car for 100 km...\n",
      "Color: Red, Mileage: 100 km, Fuel: 43.333333333333336 liters\n",
      "\n",
      "Driving the Truck for 100 km...\n",
      "Color: Blue, Mileage: 100 km, Fuel: 90.0 liters\n",
      "\n",
      "Refueling the Car by 20 liters...\n",
      "Refueled 20 liters. Current fuel: 63.333333333333336 liters.\n",
      "Color: Red, Mileage: 100 km, Fuel: 63.333333333333336 liters\n",
      "\n",
      "Refueling the Truck by 50 liters...\n",
      "Refueled 50 liters. Current fuel: 140.0 liters.\n",
      "Color: Blue, Mileage: 100 km, Fuel: 140.0 liters\n"
     ]
    }
   ],
   "source": [
    "#ChatGPT Code\n",
    "\n",
    "class Vehicle:\n",
    "    def __init__(self, color, mileage=0, fuel_liters=0):\n",
    "        self.color = color\n",
    "        self.mileage = mileage\n",
    "        self.fuel_liters = fuel_liters\n",
    "\n",
    "    def drive(self, km, km_per_liter):\n",
    "        fuel_needed = km / km_per_liter\n",
    "        if self.fuel_liters >= fuel_needed:\n",
    "            self.fuel_liters -= fuel_needed\n",
    "            self.mileage += km\n",
    "        else:\n",
    "            print(f\"Not enough fuel to drive {km} km. Please refuel.\")\n",
    "\n",
    "    def refuel(self, liters):\n",
    "        self.fuel_liters += liters\n",
    "        print(f\"Refueled {liters} liters. Current fuel: {self.fuel_liters} liters.\")\n",
    "\n",
    "    def get_status(self):\n",
    "        return f\"Color: {self.color}, Mileage: {self.mileage} km, Fuel: {self.fuel_liters} liters\"\n",
    "\n",
    "\n",
    "class Car(Vehicle):\n",
    "    def __init__(self, color, mileage=0, fuel_liters=0, efficiency=15):\n",
    "        super().__init__(color, mileage, fuel_liters)\n",
    "        self.efficiency = efficiency\n",
    "\n",
    "    def drive(self, km):\n",
    "        super().drive(km, self.efficiency)\n",
    "\n",
    "\n",
    "class Truck(Vehicle):\n",
    "    def __init__(self, color, mileage=0, fuel_liters=0, efficiency=10):\n",
    "        super().__init__(color, mileage, fuel_liters)\n",
    "        self.efficiency = efficiency\n",
    "\n",
    "    def drive(self, km):\n",
    "        super().drive(km, self.efficiency)\n",
    "\n",
    "\n",
    "if __name__ == \"__main__\":\n",
    "    car = Car(color=\"Red\", fuel_liters=50)\n",
    "    truck = Truck(color=\"Blue\", fuel_liters=100)\n",
    "\n",
    "    print(\"Initial Status:\")\n",
    "    print(car.get_status())\n",
    "    print(truck.get_status())\n",
    "\n",
    "    print(\"\\nDriving the Car for 100 km...\")\n",
    "    car.drive(100)\n",
    "    print(car.get_status())\n",
    "\n",
    "    print(\"\\nDriving the Truck for 100 km...\")\n",
    "    truck.drive(100)\n",
    "    print(truck.get_status())\n",
    "\n",
    "    print(\"\\nRefueling the Car by 20 liters...\")\n",
    "    car.refuel(20)\n",
    "    print(car.get_status())\n",
    "\n",
    "    print(\"\\nRefueling the Truck by 50 liters...\")\n",
    "    truck.refuel(50)\n",
    "    print(truck.get_status())"
   ]
  },
  {
   "cell_type": "markdown",
   "id": "b2fc32c0-f906-424c-9b0f-ebfc99389e6b",
   "metadata": {},
   "source": [
    "# Critique\n",
    "    Correctness: The code correctly models the behavior of vehicles (Car and Truck), including driving and refueling with proper fuel consumption and mileage updates. The drive method works as expected with the proper fuel consumption based on the efficiency.\n",
    "    Complexity: The program is simple, with O(1) time and space complexity for each method call (drive, refuel, get_status).\n",
    "    Robustness: Works as expected for basic use cases. It doesn't handle edge cases such as invalid input for fuel amount or kilometers (e.g., negative values or non-numeric inputs).\n",
    "    Readability: The code is clear and easy to understand. Using super() to call the parent class methods is efficient and avoids code repetition.\n",
    "    Faithfulness: The code is faithful to the task, using class inheritance and method overriding for Car and Truck classes. It encapsulates vehicle behavior (fuel consumption, mileage, refueling) appropriately."
   ]
  },
  {
   "cell_type": "code",
   "execution_count": 17,
   "id": "13dac2cd-9207-4106-87b4-34ecb8327036",
   "metadata": {},
   "outputs": [
    {
     "name": "stdout",
     "output_type": "stream",
     "text": [
      "Red vehicle, Mileage: 0 km, Fuel: 50 liters\n",
      "Blue vehicle, Mileage: 0 km, Fuel: 100 liters\n",
      "Red vehicle, Mileage: 100 km, Fuel: 43.333333333333336 liters\n",
      "Blue vehicle, Mileage: 100 km, Fuel: 90.0 liters\n",
      "Refueled 20 liters.\n",
      "Red vehicle, Mileage: 100 km, Fuel: 63.333333333333336 liters\n",
      "Refueled 50 liters.\n",
      "Blue vehicle, Mileage: 100 km, Fuel: 140.0 liters\n"
     ]
    }
   ],
   "source": [
    "# Improved Code\n",
    "\n",
    "class Vehicle:\n",
    "    def __init__(self, color, fuel_liters=0, mileage=0, efficiency=0):\n",
    "        self.color = color\n",
    "        self.fuel_liters = fuel_liters\n",
    "        self.mileage = mileage\n",
    "        self.efficiency = efficiency\n",
    "\n",
    "    def drive(self, km):\n",
    "        fuel_needed = km / self.efficiency\n",
    "        if self.fuel_liters >= fuel_needed:\n",
    "            self.fuel_liters -= fuel_needed\n",
    "            self.mileage += km\n",
    "        else:\n",
    "            print(\"Not enough fuel to drive. Please refuel.\")\n",
    "\n",
    "    def refuel(self, liters):\n",
    "        self.fuel_liters += liters\n",
    "        print(f\"Refueled {liters} liters.\")\n",
    "\n",
    "    def get_status(self):\n",
    "        return f\"{self.color} vehicle, Mileage: {self.mileage} km, Fuel: {self.fuel_liters} liters\"\n",
    "\n",
    "class Car(Vehicle):\n",
    "    def __init__(self, color, fuel_liters=0, mileage=0):\n",
    "        super().__init__(color, fuel_liters, mileage, efficiency=15)\n",
    "\n",
    "class Truck(Vehicle):\n",
    "    def __init__(self, color, fuel_liters=0, mileage=0):\n",
    "        super().__init__(color, fuel_liters, mileage, efficiency=10)\n",
    "\n",
    "if __name__ == \"__main__\":\n",
    "    car = Car(color=\"Red\", fuel_liters=50)\n",
    "    truck = Truck(color=\"Blue\", fuel_liters=100)\n",
    "\n",
    "    print(car.get_status())\n",
    "    print(truck.get_status())\n",
    "\n",
    "    car.drive(100)\n",
    "    print(car.get_status())\n",
    "\n",
    "    truck.drive(100)\n",
    "    print(truck.get_status())\n",
    "\n",
    "    car.refuel(20)\n",
    "    print(car.get_status())\n",
    "\n",
    "    truck.refuel(50)\n",
    "    print(truck.get_status())\n"
   ]
  },
  {
   "cell_type": "markdown",
   "id": "6dfa46cd-6efb-449d-b4d1-42291a2644b1",
   "metadata": {},
   "source": [
    "# Q8"
   ]
  },
  {
   "cell_type": "markdown",
   "id": "9ccb703c-18f2-44c4-873a-ab064a6722b3",
   "metadata": {},
   "source": [
    "# Task\n",
    "    OOP + Composition: Kennel with Dogs. Using a Dog class (name, age, breed, bark()), implement a Kennel manager that holds multiple Dog instances, supports add_dog, remove_dog, oldest_dog(), and find_by_breed(breed). Compare composition vs. inheritance for this scenario. Anchor concepts: OOP design, managing collections of objects. Reference: :contentReference[oaicite:14]index=14"
   ]
  },
  {
   "cell_type": "markdown",
   "id": "a1d18c14-3f6f-44da-b458-4ec86f4375d0",
   "metadata": {},
   "source": [
    "# Prompt\n",
    "    Create a dog class with attributes name, age, breed, and a method bark(). Implement a Kennel class that manages multiple Dog instances. The Kennel class should have methods to:\n",
    "    add_dog(dog)\n",
    "    remove_dog(dog)\n",
    "    oldest_dog()\n",
    "    find_by_breed(breed)"
   ]
  },
  {
   "cell_type": "code",
   "execution_count": 18,
   "id": "87dbf695-c23e-4ed1-878c-09dbf0f373ea",
   "metadata": {},
   "outputs": [
    {
     "name": "stdout",
     "output_type": "stream",
     "text": [
      "All dogs in the kennel:\n",
      "Buddy (5 years old)\n",
      "Bella (3 years old)\n",
      "Max (8 years old)\n",
      "\n",
      "Oldest dog:\n",
      "Max (8 years old)\n",
      "\n",
      "Dogs of breed 'Labrador':\n",
      "Bella\n",
      "\n",
      "Removing 'Max' from the kennel...\n",
      "\n",
      "All dogs in the kennel after removal:\n",
      "Buddy (5 years old)\n",
      "Bella (3 years old)\n"
     ]
    }
   ],
   "source": [
    "#ChatGPT Code\n",
    "\n",
    "class Dog:\n",
    "    def __init__(self, name, age, breed):\n",
    "        self.name = name\n",
    "        self.age = age\n",
    "        self.breed = breed\n",
    "\n",
    "    def bark(self):\n",
    "        return f\"{self.name} says woof!\"\n",
    "\n",
    "class Kennel:\n",
    "    def __init__(self):\n",
    "        self.dogs = []\n",
    "\n",
    "    def add_dog(self, dog):\n",
    "        self.dogs.append(dog)\n",
    "\n",
    "    def remove_dog(self, dog):\n",
    "        if dog in self.dogs:\n",
    "            self.dogs.remove(dog)\n",
    "\n",
    "    def oldest_dog(self):\n",
    "        if self.dogs:\n",
    "            return max(self.dogs, key=lambda dog: dog.age)\n",
    "        return None\n",
    "\n",
    "    def find_by_breed(self, breed):\n",
    "        return [dog for dog in self.dogs if dog.breed == breed]\n",
    "\n",
    "# Test the code\n",
    "if __name__ == \"__main__\":\n",
    "    dog1 = Dog(\"Buddy\", 5, \"Golden Retriever\")\n",
    "    dog2 = Dog(\"Bella\", 3, \"Labrador\")\n",
    "    dog3 = Dog(\"Max\", 8, \"Beagle\")\n",
    "    \n",
    "    kennel = Kennel()\n",
    "    \n",
    "    kennel.add_dog(dog1)\n",
    "    kennel.add_dog(dog2)\n",
    "    kennel.add_dog(dog3)\n",
    "    \n",
    "    print(\"All dogs in the kennel:\")\n",
    "    for dog in kennel.dogs:\n",
    "        print(f\"{dog.name} ({dog.age} years old)\")\n",
    "\n",
    "    print(\"\\nOldest dog:\")\n",
    "    oldest = kennel.oldest_dog()\n",
    "    if oldest:\n",
    "        print(f\"{oldest.name} ({oldest.age} years old)\")\n",
    "    \n",
    "    print(\"\\nDogs of breed 'Labrador':\")\n",
    "    labrador_dogs = kennel.find_by_breed(\"Labrador\")\n",
    "    for dog in labrador_dogs:\n",
    "        print(dog.name)\n",
    "\n",
    "    print(\"\\nRemoving 'Max' from the kennel...\")\n",
    "    kennel.remove_dog(dog3)\n",
    "\n",
    "    print(\"\\nAll dogs in the kennel after removal:\")\n",
    "    for dog in kennel.dogs:\n",
    "        print(f\"{dog.name} ({dog.age} years old)\")"
   ]
  },
  {
   "cell_type": "markdown",
   "id": "aa8294af-77df-4143-a85a-acd33fc6ec7c",
   "metadata": {},
   "source": [
    "# Critique\n",
    "    Correctness: The code works well for managing dogs in a kennel, with correct methods for adding, removing, and finding dogs.\n",
    "    Complexity: Time complexity is O(n) for oldest_dog() and find_by_breed(), which is fine for the operations being performed.\n",
    "    Robustness: It lacks input validation for attributes like age. If a dog isn’t in the kennel, the remove_dog() method silently ignores it.\n",
    "    Readability: Code is clean and easy to understand. Adding docstrings would improve clarity.\n",
    "    Faithfulness: The code matches the intended functionality, accurately modeling the kennel operations."
   ]
  },
  {
   "cell_type": "code",
   "execution_count": 19,
   "id": "aeeb5d99-237e-46c1-8e88-1677de4491f6",
   "metadata": {},
   "outputs": [
    {
     "name": "stdout",
     "output_type": "stream",
     "text": [
      "Initial Status:\n",
      "Kennel has 3 dogs.\n",
      "Buddy (5 years old, Golden Retriever)\n",
      "Bella (3 years old, Labrador)\n",
      "Max (8 years old, Beagle)\n",
      "\n",
      "Oldest dog: Max (8 years old)\n",
      "\n",
      "Labrador dogs:\n",
      "Bella\n",
      "\n",
      "After removing Max:\n",
      "Kennel has 2 dogs.\n",
      "Buddy (5 years old, Golden Retriever)\n",
      "Bella (3 years old, Labrador)\n"
     ]
    }
   ],
   "source": [
    "#Improved Code\n",
    "\n",
    "class Dog:\n",
    "    def __init__(self, name, age, breed):\n",
    "        self.name = name\n",
    "        self.age = age\n",
    "        self.breed = breed\n",
    "\n",
    "    def bark(self):\n",
    "        return f\"{self.name} says woof!\"\n",
    "    \n",
    "    def __str__(self):\n",
    "        return f\"{self.name} ({self.age} years old, {self.breed})\"\n",
    "\n",
    "class Kennel:\n",
    "    def __init__(self):\n",
    "        self.dogs = []\n",
    "\n",
    "    def add_dog(self, dog):\n",
    "        self.dogs.append(dog)\n",
    "\n",
    "    def remove_dog(self, dog):\n",
    "        if dog in self.dogs:\n",
    "            self.dogs.remove(dog)\n",
    "        else:\n",
    "            print(f\"{dog.name} is not in the kennel!\")\n",
    "\n",
    "    def oldest_dog(self):\n",
    "        if not self.dogs:\n",
    "            print(\"No dogs in the kennel.\")\n",
    "            return None\n",
    "        return max(self.dogs, key=lambda dog: dog.age)\n",
    "\n",
    "    def find_by_breed(self, breed):\n",
    "        return [dog for dog in self.dogs if dog.breed == breed]\n",
    "\n",
    "    def __str__(self):\n",
    "        return f\"Kennel has {len(self.dogs)} dogs.\"\n",
    "\n",
    "if __name__ == \"__main__\":\n",
    "    dog1 = Dog(\"Buddy\", 5, \"Golden Retriever\")\n",
    "    dog2 = Dog(\"Bella\", 3, \"Labrador\")\n",
    "    dog3 = Dog(\"Max\", 8, \"Beagle\")\n",
    "    \n",
    "    kennel = Kennel()\n",
    "    kennel.add_dog(dog1)\n",
    "    kennel.add_dog(dog2)\n",
    "    kennel.add_dog(dog3)\n",
    "    \n",
    "    print(\"Initial Status:\")\n",
    "    print(kennel)\n",
    "    for dog in kennel.dogs:\n",
    "        print(dog)\n",
    "\n",
    "    oldest = kennel.oldest_dog()\n",
    "    if oldest:\n",
    "        print(f\"\\nOldest dog: {oldest.name} ({oldest.age} years old)\")\n",
    "\n",
    "    labrador_dogs = kennel.find_by_breed(\"Labrador\")\n",
    "    print(\"\\nLabrador dogs:\")\n",
    "    for dog in labrador_dogs:\n",
    "        print(dog.name)\n",
    "\n",
    "    kennel.remove_dog(dog3)\n",
    "    \n",
    "    print(\"\\nAfter removing Max:\")\n",
    "    print(kennel)\n",
    "    for dog in kennel.dogs:\n",
    "        print(dog)\n"
   ]
  },
  {
   "cell_type": "markdown",
   "id": "90764247-6a6a-41df-9454-dea7d8f75198",
   "metadata": {},
   "source": [
    "# Explaination\n",
    "    Composition is better here because a Kennel has dogs, but isn't type of dog. It allows more flexibiltiy and easier future changes. Inheritance would be incorrect since a Kennel isn't a \"type of\" Dog, and would create unnecessary tight coupling between the two."
   ]
  },
  {
   "cell_type": "markdown",
   "id": "a3eb94f7-2e50-4951-9b48-637cec853a8c",
   "metadata": {},
   "source": [
    "# Q9"
   ]
  },
  {
   "cell_type": "markdown",
   "id": "6a5367c1-87be-4efe-ba6d-2513cad19a30",
   "metadata": {},
   "source": [
    "# Task:\n",
    "    Modules and Packages: Helpers. Create a package helpers/ with modules string_utils.py (function shout(s) uppercases) and math_utils.py (function area(l,w)). Then a main.py that imports with both import ... as ... and from ... import .... Explain namespace collisions and why aliases help. Anchor concepts: modules, packages, import variations, namespaces. Reference: :contentReference[oaicite:15]index=15\n"
   ]
  },
  {
   "cell_type": "markdown",
   "id": "efc74188-4582-432d-97d7-ebd016ad5d75",
   "metadata": {},
   "source": [
    "# Prompt:\n",
    "    Write a Python program that creates a package named helpers containing two modules: string_utils.py with a function shout(s) that returns a string in uppercase, and math_utils.py with a function area(l, w) that returns the area of a rectangle. In the main file, import the modules using both import ... as ... and from ... import ..., then demonstrate how aliases help avoid namespace collisions."
   ]
  },
  {
   "cell_type": "code",
   "execution_count": 1,
   "id": "1104dcbe-5b09-4821-a3c2-ecd37154a3b1",
   "metadata": {},
   "outputs": [
    {
     "name": "stdout",
     "output_type": "stream",
     "text": [
      "HELLO WORLD\n",
      "20\n",
      "HI THERE\n",
      "6\n"
     ]
    }
   ],
   "source": [
    "#ChatGPT Code\n",
    "\n",
    "import helpers.string_utils as sutils\n",
    "import helpers.math_utils as mutils\n",
    "\n",
    "print(sutils.shout(\"hello world\"))\n",
    "print(mutils.area(4, 5))\n",
    "\n",
    "from helpers.string_utils import shout\n",
    "from helpers.math_utils import area\n",
    "\n",
    "print(shout(\"hi there\"))\n",
    "print(area(3, 2))\n"
   ]
  },
  {
   "cell_type": "markdown",
   "id": "30bca4f9-fb52-4072-92e6-ac1730e9fd6e",
   "metadata": {},
   "source": [
    "# Critique\n",
    "    Correctness: The code correctly imports the helper modules and calls their functions, producing the right outputs.\n",
    "    Complexity: O(1) since it only performs simple function calls and arithmetic.\n",
    "    Robustness: Works for any valid string and numeric inputs. Could add input validation to handle non-string or non-numeric values.\n",
    "    Readability: Simple and clear. The use of aliases (s, m) makes the code shorter and easier to follow.\n",
    "    Faithfulness: Fully follows the requirements on modules, packages, and import variations as stated in the task."
   ]
  },
  {
   "cell_type": "code",
   "execution_count": 3,
   "id": "1d74ae88-c50f-4ca8-9b0f-a71b9ed25985",
   "metadata": {},
   "outputs": [
    {
     "name": "stdout",
     "output_type": "stream",
     "text": [
      "HELLO\n",
      "20\n",
      "HI\n",
      "6\n"
     ]
    }
   ],
   "source": [
    "#Improved Code\n",
    "\n",
    "import helpers.string_utils as s\n",
    "import helpers.math_utils as m\n",
    "\n",
    "print(s.shout(\"hello\"))\n",
    "print(m.area(4, 5))\n",
    "\n",
    "from helpers.string_utils import shout\n",
    "from helpers.math_utils import area\n",
    "\n",
    "print(shout(\"hi\"))\n",
    "print(area(3, 2))\n"
   ]
  },
  {
   "cell_type": "markdown",
   "id": "6362fee6-e210-40c0-a33d-a7484e0183c9",
   "metadata": {},
   "source": [
    "# Explaination\n",
    "    Namespace collisions happen when two modules have the same function name, which can confuse Python. Aliases fix this by giving each module a short, unique name to keep the code clear and organized."
   ]
  },
  {
   "cell_type": "markdown",
   "id": "b37ae5f0-c071-46f4-8ad6-f6317dedc629",
   "metadata": {},
   "source": [
    "# Q10"
   ]
  },
  {
   "cell_type": "markdown",
   "id": "97bdff82-b2f6-47f8-b94a-52ba48e3d1dd",
   "metadata": {},
   "source": [
    "# Task:\n",
    "    Robust Temperature Converter (Functions + Exceptions). Write two functions: cel_to_far(c) and far_to_cel(f) with type hints and docstrings. Build CLI that asks the user which direction to convert and validates input (gracefully handles bad entries). Include unit tests (doctest or simple asserts) covering typical and edge cases (e.g., -40). Anchor concepts: writing functions, control flow, input handling, testing."
   ]
  },
  {
   "cell_type": "markdown",
   "id": "4cd2d757-1909-4b47-9d59-0aaec432d6e2",
   "metadata": {},
   "source": [
    "# Prompt\n",
    "    Write a simple temperature converter with two functions: one to convert Celsius to Fahrenheit and one to convert Fahrenheit to Celsius. Ask the user which conversion they want and handle wrong inputs nicely."
   ]
  },
  {
   "cell_type": "code",
   "execution_count": 24,
   "id": "3da98fd8-a80f-43e6-abf3-f55f6074a4d3",
   "metadata": {},
   "outputs": [
    {
     "name": "stdin",
     "output_type": "stream",
     "text": [
      "Convert (C)elsius to Fahrenheit or (F)ahrenheit to Celsius?  C\n",
      "Enter temperature in Celsius:  100\n"
     ]
    },
    {
     "name": "stdout",
     "output_type": "stream",
     "text": [
      "100.0°C = 212.00°F\n"
     ]
    }
   ],
   "source": [
    "#ChatGPT Code\n",
    "\n",
    "def cel_to_far(c: float) -> float:\n",
    "    return (c * 9/5) + 32\n",
    "\n",
    "def far_to_cel(f: float) -> float:\n",
    "    return (f - 32) * 5/9\n",
    "\n",
    "try:\n",
    "    choice = input(\"Convert (C)elsius to Fahrenheit or (F)ahrenheit to Celsius? \").strip().lower()\n",
    "    if choice == \"c\":\n",
    "        c = float(input(\"Enter temperature in Celsius: \"))\n",
    "        print(f\"{c}°C = {cel_to_far(c):.2f}°F\")\n",
    "    elif choice == \"f\":\n",
    "        f = float(input(\"Enter temperature in Fahrenheit: \"))\n",
    "        print(f\"{f}°F = {far_to_cel(f):.2f}°C\")\n",
    "    else:\n",
    "        print(\"Invalid choice.\")\n",
    "except ValueError:\n",
    "    print(\"Please enter a number.\")"
   ]
  },
  {
   "cell_type": "markdown",
   "id": "45eae8fc-acdd-4314-bd43-baf11621c9e7",
   "metadata": {},
   "source": [
    "# Critique\n",
    "    Correctness: Gives right conversion results.\n",
    "    Complexity: Very simple (O(1)).\n",
    "    Robustness: Can handle wrong inputs like letters instead of numbers.\n",
    "    Readability: Easy to read and understand.\n",
    "    Faithfulness: Follows the task and shows functions, input handling, and testing."
   ]
  }
 ],
 "metadata": {
  "kernelspec": {
   "display_name": "Python [conda env:base] *",
   "language": "python",
   "name": "conda-base-py"
  },
  "language_info": {
   "codemirror_mode": {
    "name": "ipython",
    "version": 3
   },
   "file_extension": ".py",
   "mimetype": "text/x-python",
   "name": "python",
   "nbconvert_exporter": "python",
   "pygments_lexer": "ipython3",
   "version": "3.13.5"
  }
 },
 "nbformat": 4,
 "nbformat_minor": 5
}
