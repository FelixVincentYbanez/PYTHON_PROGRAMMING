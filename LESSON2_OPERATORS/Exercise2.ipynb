{
 "cells": [
  {
   "cell_type": "markdown",
   "id": "e2f2b5f1-0806-43e8-85f7-99652d20d6d6",
   "metadata": {},
   "source": [
    "# Review Question 1"
   ]
  },
  {
   "cell_type": "code",
   "execution_count": 1,
   "id": "96d7a462-2d52-42e4-b9a6-8069d4f95b5f",
   "metadata": {},
   "outputs": [
    {
     "name": "stdout",
     "output_type": "stream",
     "text": [
      "25000000\n",
      "25000000\n"
     ]
    }
   ],
   "source": [
    "num1 = 25_000_000\n",
    "num2 = 25000000\n",
    "print(num1)\n",
    "print(num2)"
   ]
  },
  {
   "cell_type": "code",
   "execution_count": 3,
   "id": "64270ba3-0fb3-4554-a5a4-9fd6542a7968",
   "metadata": {},
   "outputs": [
    {
     "name": "stdout",
     "output_type": "stream",
     "text": [
      "175000.0\n"
     ]
    }
   ],
   "source": [
    "num = 1.75e5\n",
    "print(num)"
   ]
  },
  {
   "cell_type": "code",
   "execution_count": 4,
   "id": "b415b81c-6cfa-4242-94c8-f814ba716c6b",
   "metadata": {},
   "outputs": [
    {
     "data": {
      "text/plain": [
       "inf"
      ]
     },
     "execution_count": 4,
     "metadata": {},
     "output_type": "execute_result"
    }
   ],
   "source": [
    "num1 = 2e345\n",
    "num1"
   ]
  },
  {
   "cell_type": "markdown",
   "id": "dc04bcd4-6b15-4aef-a83b-86cd1b9173cd",
   "metadata": {},
   "source": [
    "# Review Question 2"
   ]
  },
  {
   "cell_type": "code",
   "execution_count": 8,
   "id": "b5bab32f-eb70-4911-99c2-9af57481793d",
   "metadata": {},
   "outputs": [
    {
     "name": "stdin",
     "output_type": "stream",
     "text": [
      "Enter a base: 1.2\n",
      "Enter an expononent: 3\n"
     ]
    },
    {
     "name": "stdout",
     "output_type": "stream",
     "text": [
      "1.2 to the power of 3 = 1.7279999999999998\n"
     ]
    }
   ],
   "source": [
    "#%%\n",
    "num1 = float(input(\"Enter a base:\"))\n",
    "num2 = int(input(\"Enter an expononent:\"))\n",
    "result = num1 ** num2\n",
    "print(str(num1) +\" to the power of \"+ str(num2) +\" = \"+ str(result))"
   ]
  },
  {
   "cell_type": "markdown",
   "id": "fd39bd00-b6fb-44f1-86ca-77536def1711",
   "metadata": {},
   "source": [
    "# Review Question 3"
   ]
  },
  {
   "cell_type": "code",
   "execution_count": 9,
   "id": "487925a2-3a6f-4e88-9b59-157b09c443ba",
   "metadata": {},
   "outputs": [
    {
     "name": "stdin",
     "output_type": "stream",
     "text": [
      "Enter a Number: 5.432\n"
     ]
    },
    {
     "name": "stdout",
     "output_type": "stream",
     "text": [
      "5.432 rounded to 2 decimal places is 5.43\n"
     ]
    }
   ],
   "source": [
    "num1 = float(input(\"Enter a Number:\"))\n",
    "roundNum = round(num1, 2)\n",
    "print(str(num1) +\" rounded to 2 decimal places is \"+ str(roundNum))"
   ]
  },
  {
   "cell_type": "code",
   "execution_count": 11,
   "id": "43b38304-52e9-4014-b0b5-2042d90d46c4",
   "metadata": {},
   "outputs": [
    {
     "name": "stdin",
     "output_type": "stream",
     "text": [
      "Enter a Number: -10\n"
     ]
    },
    {
     "name": "stdout",
     "output_type": "stream",
     "text": [
      "The absolute value of -10 is 10\n"
     ]
    }
   ],
   "source": [
    "num1 = int(input(\"Enter a Number:\"))\n",
    "absNum = abs(num1)\n",
    "print(\"The absolute value of \"+ str(num1) +\" is \"+ str(absNum))"
   ]
  },
  {
   "cell_type": "markdown",
   "id": "1a2d97c2-5273-49fe-9faf-5275bdbe133a",
   "metadata": {},
   "source": [
    "# Review Question 4"
   ]
  },
  {
   "cell_type": "code",
   "execution_count": 13,
   "id": "979e9aed-a7a7-41e5-84f9-16f55663bec7",
   "metadata": {},
   "outputs": [
    {
     "name": "stdin",
     "output_type": "stream",
     "text": [
      "Enter a Number: 1.5\n",
      "Enter another Number .5\n"
     ]
    },
    {
     "name": "stdout",
     "output_type": "stream",
     "text": [
      "The difference between 1.5 and 0.5 is an integer? True\n"
     ]
    }
   ],
   "source": [
    "num1 = float(input(\"Enter a Number:\"))\n",
    "num2 = float(input(\"Enter another Number\"))\n",
    "num3 = num1 - num2\n",
    "result_num3 = num3.is_integer()\n",
    "print(\"The difference between \" +str(num1)+ \" and \" +str(num2)+ \" is an integer? \"+ str(result_num3))"
   ]
  },
  {
   "cell_type": "markdown",
   "id": "a4e73669-7c67-4689-8bf0-805e9f32aa59",
   "metadata": {},
   "source": [
    "# Review Question 5"
   ]
  },
  {
   "cell_type": "code",
   "execution_count": 14,
   "id": "6fe50dd7-5881-4a4e-9c8f-5a59c8c21bf8",
   "metadata": {},
   "outputs": [
    {
     "data": {
      "text/plain": [
       "1.147"
      ]
     },
     "execution_count": 14,
     "metadata": {},
     "output_type": "execute_result"
    }
   ],
   "source": [
    "num1 = 3 **.125\n",
    "round(num1, 3)"
   ]
  },
  {
   "cell_type": "code",
   "execution_count": 21,
   "id": "f27bda43-d903-4676-b222-12834fac9a1f",
   "metadata": {},
   "outputs": [
    {
     "name": "stdout",
     "output_type": "stream",
     "text": [
      "150,000.00\n"
     ]
    }
   ],
   "source": [
    "num = 150000\n",
    "print(f\"{num:,.2f}\")"
   ]
  },
  {
   "cell_type": "code",
   "execution_count": 16,
   "id": "6f4745a3-030b-4d80-b490-bc802a02ddf9",
   "metadata": {},
   "outputs": [
    {
     "name": "stdout",
     "output_type": "stream",
     "text": [
      "20%\n"
     ]
    }
   ],
   "source": [
    "num = 2 / 10\n",
    "print(f\"{num:.0%}\")"
   ]
  },
  {
   "cell_type": "code",
   "execution_count": null,
   "id": "322f948c-a240-4c83-8b98-93fbfae610f2",
   "metadata": {},
   "outputs": [],
   "source": []
  }
 ],
 "metadata": {
  "kernelspec": {
   "display_name": "Python [conda env:myenv]",
   "language": "python",
   "name": "conda-env-myenv-py"
  },
  "language_info": {
   "codemirror_mode": {
    "name": "ipython",
    "version": 3
   },
   "file_extension": ".py",
   "mimetype": "text/x-python",
   "name": "python",
   "nbconvert_exporter": "python",
   "pygments_lexer": "ipython3",
   "version": "3.10.18"
  }
 },
 "nbformat": 4,
 "nbformat_minor": 5
}
