{
 "cells": [
  {
   "cell_type": "markdown",
   "id": "8a0f242f-4cb6-475a-a576-7fde66f82f03",
   "metadata": {},
   "source": [
    "# Review Question 1"
   ]
  },
  {
   "cell_type": "code",
   "execution_count": 5,
   "id": "8154f67f-dac8-4edf-ac0e-c83cd255941c",
   "metadata": {},
   "outputs": [
    {
     "name": "stdout",
     "output_type": "stream",
     "text": [
      "True\n",
      "False\n",
      "True\n",
      "True\n",
      "True\n",
      "False\n"
     ]
    }
   ],
   "source": [
    "print(1 <= 1)\n",
    "print(1 != 1)\n",
    "print(1 != 2)\n",
    "print(\"good\" != \"bad\")\n",
    "print(\"good\" != \"Good\")\n",
    "print(123 == \"123\")"
   ]
  },
  {
   "cell_type": "code",
   "execution_count": 6,
   "id": "5053dfba-c5ec-4240-85f0-b5b3927a12be",
   "metadata": {},
   "outputs": [
    {
     "name": "stdout",
     "output_type": "stream",
     "text": [
      "True\n",
      "True\n",
      "True\n",
      "True\n"
     ]
    }
   ],
   "source": [
    "print(3 < 4)\n",
    "print(10 > 5)\n",
    "print(\"jack\" != \"jill\")\n",
    "print(42 != \"42\")"
   ]
  },
  {
   "cell_type": "code",
   "execution_count": null,
   "id": "93094788-08e4-416e-9000-cb23de2a14bf",
   "metadata": {},
   "outputs": [],
   "source": [
    "# Review Question 2"
   ]
  },
  {
   "cell_type": "code",
   "execution_count": 3,
   "id": "8b51bfa2-2a2e-4776-98c2-bf51bb75abf2",
   "metadata": {},
   "outputs": [
    {
     "name": "stdout",
     "output_type": "stream",
     "text": [
      "False\n",
      "False\n",
      "True\n",
      "False\n"
     ]
    }
   ],
   "source": [
    "print((1 <= 1) and (1 != 1))\n",
    "print(not (1 != 2))\n",
    "print(\"good\" != \"bad\")\n",
    "print((\"good\" != \"Good\") and not (1 == 1))\n"
   ]
  },
  {
   "cell_type": "code",
   "execution_count": 4,
   "id": "61a986db-82eb-489c-9c53-d13e963eb9ad",
   "metadata": {},
   "outputs": [
    {
     "name": "stdout",
     "output_type": "stream",
     "text": [
      "True\n",
      "True\n",
      "True\n"
     ]
    }
   ],
   "source": [
    "print(False == (not True))\n",
    "print((True and False) == (True and False))\n",
    "print(not (True and \"A\" == \"B\"))"
   ]
  },
  {
   "cell_type": "markdown",
   "id": "f019b787-0fac-427f-b70e-388232f1b172",
   "metadata": {},
   "source": [
    "# Review Question 3"
   ]
  },
  {
   "cell_type": "code",
   "execution_count": null,
   "id": "bb68183e-767b-4914-8629-474fbc4a5e89",
   "metadata": {},
   "outputs": [],
   "source": [
    "while True:\n",
    "    user_input = input(\"Enter a character: \")\n",
    "    letter = ('Q', 'q')  \n",
    "    if len(user_input) == 1:\n",
    "        print(f\"You entered the letter: {user_input}\")\n",
    "        \n",
    "        if user_input in letter:\n",
    "            print(f\"You entered {user_input}, quitting...\")\n",
    "            break\n",
    "    else:\n",
    "        print(\"Invalid input. Please enter exactly one character.\")\n"
   ]
  },
  {
   "cell_type": "code",
   "execution_count": 9,
   "id": "5fb69faa-95f6-415a-9dc1-aadbf45a276d",
   "metadata": {},
   "outputs": [
    {
     "name": "stdout",
     "output_type": "stream",
     "text": [
      "1\n",
      "2\n",
      "4\n",
      "5\n",
      "7\n",
      "8\n",
      "10\n",
      "11\n",
      "13\n",
      "14\n",
      "16\n",
      "17\n",
      "19\n",
      "20\n",
      "22\n",
      "23\n",
      "25\n",
      "26\n",
      "28\n",
      "29\n",
      "31\n",
      "32\n",
      "34\n",
      "35\n",
      "37\n",
      "38\n",
      "40\n",
      "41\n",
      "43\n",
      "44\n",
      "46\n",
      "47\n",
      "49\n"
     ]
    }
   ],
   "source": [
    "for num in range(1,50):\n",
    "    if num % 3 == 0:  \n",
    "        continue\n",
    "    print(num)\n"
   ]
  },
  {
   "cell_type": "markdown",
   "id": "2aecc7bc-8f13-4d1b-a4d8-05960005eeec",
   "metadata": {},
   "source": [
    "# Review Question 4"
   ]
  },
  {
   "cell_type": "code",
   "execution_count": 10,
   "id": "6917063b-3f9f-473e-8a83-a5837d064489",
   "metadata": {},
   "outputs": [
    {
     "name": "stdin",
     "output_type": "stream",
     "text": [
      "Please enter an integer:  F\n"
     ]
    },
    {
     "name": "stdout",
     "output_type": "stream",
     "text": [
      "Try again.\n"
     ]
    },
    {
     "name": "stdin",
     "output_type": "stream",
     "text": [
      "Please enter an integer:  4\n"
     ]
    },
    {
     "name": "stdout",
     "output_type": "stream",
     "text": [
      "You entered the number: 4\n"
     ]
    }
   ],
   "source": [
    "while True:\n",
    "    user_input = input(\"Please enter an integer: \")\n",
    "    try:\n",
    "        num = int(user_input)\n",
    "        print(f\"You entered the number: {num}\")\n",
    "        break\n",
    "    except ValueError:\n",
    "        print(\"Try again.\")"
   ]
  },
  {
   "cell_type": "code",
   "execution_count": 11,
   "id": "e4e0d389-fdeb-4c9f-9b77-365087fd3e57",
   "metadata": {},
   "outputs": [
    {
     "name": "stdin",
     "output_type": "stream",
     "text": [
      "Enter a string:  Python\n",
      "Enter an integer index:  3\n"
     ]
    },
    {
     "name": "stdout",
     "output_type": "stream",
     "text": [
      "Character at index 3 is 'h'\n"
     ]
    }
   ],
   "source": [
    "user_input = input(\"Enter a string: \")\n",
    "n = int(input(\"Enter an integer index: \"))\n",
    "print(f\"Character at index {n} is '{user_input[n]}'\")"
   ]
  },
  {
   "cell_type": "code",
   "execution_count": 16,
   "id": "eb10677c-9f22-4e47-9c62-33a5b35ef75c",
   "metadata": {},
   "outputs": [
    {
     "name": "stdout",
     "output_type": "stream",
     "text": [
      "Average roll after 10000 rolls: 3.4975\n"
     ]
    }
   ],
   "source": [
    "import random\n",
    "\n",
    "def roll():\n",
    "    return random.randint(1, 6)\n",
    "total = 0\n",
    "num_rolls = 10000\n",
    "count = 0\n",
    "while count < num_rolls:\n",
    "    total = total + roll()\n",
    "    count = count + 1\n",
    "average = total / num_rolls\n",
    "print(\"Average roll after\", num_rolls, \"rolls:\", average)"
   ]
  },
  {
   "cell_type": "markdown",
   "id": "f52f0ed7-2e37-4c9a-8954-ecb28ee196b9",
   "metadata": {},
   "source": [
    "# Challenge: Simulate an election"
   ]
  },
  {
   "cell_type": "code",
   "execution_count": 18,
   "id": "3e5b1252-1b52-4c7a-9a8b-fcf9e7a6a275",
   "metadata": {},
   "outputs": [
    {
     "name": "stdout",
     "output_type": "stream",
     "text": [
      "Candidate A wins the election about 63.15% of the time.\n"
     ]
    }
   ],
   "source": [
    "import random\n",
    "\n",
    "def candidate_a_wins_region(chance_percent):\n",
    "    return random.random() < (chance_percent / 100)\n",
    "simulations = 10000\n",
    "a_wins_election = 0\n",
    "for _ in range(simulations):\n",
    "    wins = 0\n",
    "    if candidate_a_wins_region(87):\n",
    "        wins += 1\n",
    "    if candidate_a_wins_region(65):\n",
    "        wins += 1\n",
    "    if candidate_a_wins_region(17):\n",
    "        wins += 1\n",
    "    if wins >= 2:\n",
    "        a_wins_election += 1\n",
    "probability = (a_wins_election / simulations) * 100\n",
    "print(f\"Candidate A wins the election about {probability:.2f}% of the time.\")"
   ]
  },
  {
   "cell_type": "code",
   "execution_count": null,
   "id": "ddf3a086-4aca-4086-92c7-6b72c2fc8dcf",
   "metadata": {},
   "outputs": [],
   "source": []
  }
 ],
 "metadata": {
  "kernelspec": {
   "display_name": "Python [conda env:base] *",
   "language": "python",
   "name": "conda-base-py"
  },
  "language_info": {
   "codemirror_mode": {
    "name": "ipython",
    "version": 3
   },
   "file_extension": ".py",
   "mimetype": "text/x-python",
   "name": "python",
   "nbconvert_exporter": "python",
   "pygments_lexer": "ipython3",
   "version": "3.13.5"
  }
 },
 "nbformat": 4,
 "nbformat_minor": 5
}
