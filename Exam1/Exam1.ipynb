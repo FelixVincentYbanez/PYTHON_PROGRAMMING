{
 "cells": [
  {
   "cell_type": "markdown",
   "id": "90e9063b-43cb-4a3a-afd3-45e11e216efd",
   "metadata": {},
   "source": [
    "# 1st Long Exam September 9, 2025"
   ]
  },
  {
   "cell_type": "markdown",
   "id": "4f4d95f0-fad2-482e-870c-eb4e76cd6a79",
   "metadata": {},
   "source": [
    "# Felix Vincent Ybanez   23753346"
   ]
  },
  {
   "cell_type": "code",
   "execution_count": 18,
   "id": "d421f4ec-f42b-4291-b835-f2e21c247128",
   "metadata": {},
   "outputs": [
    {
     "name": "stdin",
     "output_type": "stream",
     "text": [
      "Enter your Name  Felix\n"
     ]
    },
    {
     "name": "stdout",
     "output_type": "stream",
     "text": [
      "Hello, Felix\n"
     ]
    }
   ],
   "source": [
    "name = input(\"Enter your Name \")\n",
    "print(f\"Hello, {name}\")"
   ]
  },
  {
   "cell_type": "code",
   "execution_count": 7,
   "id": "69c2d800-b55f-4ad4-afdb-614f8247a412",
   "metadata": {},
   "outputs": [
    {
     "ename": "IndentationError",
     "evalue": "unexpected indent (1098873679.py, line 2)",
     "output_type": "error",
     "traceback": [
      "\u001b[1;36m  Cell \u001b[1;32mIn[7], line 2\u001b[1;36m\u001b[0m\n\u001b[1;33m    result = n(n + 1) / 2\u001b[0m\n\u001b[1;37m    ^\u001b[0m\n\u001b[1;31mIndentationError\u001b[0m\u001b[1;31m:\u001b[0m unexpected indent\n"
     ]
    }
   ],
   "source": [
    "n = int(input(\"Enter a number \"))\n",
    "    result = n(n + 1) / 2\n",
    "    print(result)"
   ]
  },
  {
   "cell_type": "code",
   "execution_count": 10,
   "id": "a97ccb73-756d-47dc-a6e8-bd824c9fa247",
   "metadata": {},
   "outputs": [
    {
     "ename": "SyntaxError",
     "evalue": "invalid syntax (1013806493.py, line 4)",
     "output_type": "error",
     "traceback": [
      "\u001b[1;36m  Cell \u001b[1;32mIn[10], line 4\u001b[1;36m\u001b[0m\n\u001b[1;33m    if(let == vowels){\u001b[0m\n\u001b[1;37m                     ^\u001b[0m\n\u001b[1;31mSyntaxError\u001b[0m\u001b[1;31m:\u001b[0m invalid syntax\n"
     ]
    }
   ],
   "source": [
    "vowels = 'a', 'e', 'i', 'o', 'u'\n",
    "ltr = 'y'\n",
    "let = char(input(\"Enter a Letter \"))\n",
    "if(let == vowels){\n",
    "    print(\"You entered a vowel\")\n",
    "}else if(let == ltr){\n",
    "    print(\"Sometimes y is a vowel, sometimes y is a consonant\")\n",
    "}else{\n",
    "    print(\"You entered a consonant\")\n",
    "}"
   ]
  },
  {
   "cell_type": "code",
   "execution_count": 11,
   "id": "6c6a0746-9ec1-4bca-aa65-9bb55400ffaf",
   "metadata": {},
   "outputs": [
    {
     "ename": "SyntaxError",
     "evalue": "invalid syntax (247531537.py, line 2)",
     "output_type": "error",
     "traceback": [
      "\u001b[1;36m  Cell \u001b[1;32mIn[11], line 2\u001b[1;36m\u001b[0m\n\u001b[1;33m    while{word == ::1}:\u001b[0m\n\u001b[1;37m                  ^\u001b[0m\n\u001b[1;31mSyntaxError\u001b[0m\u001b[1;31m:\u001b[0m invalid syntax\n"
     ]
    }
   ],
   "source": [
    "word = input(\"Enter a word\")\n",
    "while{word == ::1}:\n",
    "    print(f\"{word}, This word is Palandromic word!\")\n",
    "\n",
    "print(f\"{word}, This word is not Palandromic word!\")"
   ]
  },
  {
   "cell_type": "code",
   "execution_count": 16,
   "id": "ae3e0c31-0bb8-48a8-9e3c-a70a1e1d4130",
   "metadata": {},
   "outputs": [
    {
     "ename": "SyntaxError",
     "evalue": "invalid character '²' (U+00B2) (2212230184.py, line 2)",
     "output_type": "error",
     "traceback": [
      "\u001b[1;36m  Cell \u001b[1;32mIn[16], line 2\u001b[1;36m\u001b[0m\n\u001b[1;33m    h = (a² + b²) ** 1/2\u001b[0m\n\u001b[1;37m          ^\u001b[0m\n\u001b[1;31mSyntaxError\u001b[0m\u001b[1;31m:\u001b[0m invalid character '²' (U+00B2)\n"
     ]
    }
   ],
   "source": [
    "def hypotenuse (a,b):\n",
    "    h = (a² + b²) ** 1/2\n",
    "    return h\n",
    "    \n",
    "a = int(input(\"Enter a number \"))\n",
    "b = int(input(\"Enter a number \"))\n",
    "hypotenuse(a,b)"
   ]
  },
  {
   "cell_type": "code",
   "execution_count": null,
   "id": "d8b92551-4b71-45b0-bb4d-a653578d4f4a",
   "metadata": {},
   "outputs": [],
   "source": []
  }
 ],
 "metadata": {
  "kernelspec": {
   "display_name": "Python 3 (ipykernel)",
   "language": "python",
   "name": "python3"
  },
  "language_info": {
   "codemirror_mode": {
    "name": "ipython",
    "version": 3
   },
   "file_extension": ".py",
   "mimetype": "text/x-python",
   "name": "python",
   "nbconvert_exporter": "python",
   "pygments_lexer": "ipython3",
   "version": "3.13.5"
  }
 },
 "nbformat": 4,
 "nbformat_minor": 5
}
