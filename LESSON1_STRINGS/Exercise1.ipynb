{
 "cells": [
  {
   "cell_type": "markdown",
   "id": "a8b2da6f-60ac-4830-afc5-cb5d5bbcb0a0",
   "metadata": {},
   "source": [
    "# Review Question 1"
   ]
  },
  {
   "cell_type": "code",
   "execution_count": 1,
   "id": "712ee218-aeaa-4e3a-bb23-0602549f6c4b",
   "metadata": {},
   "outputs": [
    {
     "data": {
      "text/plain": [
       "11"
      ]
     },
     "execution_count": 1,
     "metadata": {},
     "output_type": "execute_result"
    }
   ],
   "source": [
    "string1 = \"Hello World\"\n",
    "len(string1)"
   ]
  },
  {
   "cell_type": "code",
   "execution_count": 2,
   "id": "75883dcb-5a80-48f7-915b-b75f9bc13c72",
   "metadata": {},
   "outputs": [
    {
     "data": {
      "text/plain": [
       "'HelloWorld'"
      ]
     },
     "execution_count": 2,
     "metadata": {},
     "output_type": "execute_result"
    }
   ],
   "source": [
    "string1 = \"Hello\"\n",
    "string2 = \"World\"\n",
    "string3 = string1 + string2\n",
    "string3"
   ]
  },
  {
   "cell_type": "code",
   "execution_count": 3,
   "id": "12fe8657-6355-4791-9b94-fbb85f223574",
   "metadata": {},
   "outputs": [
    {
     "data": {
      "text/plain": [
       "'Hello World'"
      ]
     },
     "execution_count": 3,
     "metadata": {},
     "output_type": "execute_result"
    }
   ],
   "source": [
    "string1 = \"Hello\"\n",
    "string2 = \"World\"\n",
    "string3 = string1 +\" \"+ string2\n",
    "string3"
   ]
  },
  {
   "cell_type": "code",
   "execution_count": 4,
   "id": "d8eacb57-7acb-4828-9c3a-cffb82082f82",
   "metadata": {},
   "outputs": [
    {
     "data": {
      "text/plain": [
       "'fox'"
      ]
     },
     "execution_count": 4,
     "metadata": {},
     "output_type": "execute_result"
    }
   ],
   "source": [
    "sen = \"The quick brown fox jumped over the lazy dog. #1234567890!\"\n",
    "sen[16:19]"
   ]
  },
  {
   "cell_type": "markdown",
   "id": "f0b325ec-917f-4b8c-9b81-4c6ad7f33484",
   "metadata": {},
   "source": [
    "# Review Question 2"
   ]
  },
  {
   "cell_type": "code",
   "execution_count": 5,
   "id": "b283de4c-99a2-4519-b178-3f8d34cfc1b8",
   "metadata": {},
   "outputs": [
    {
     "name": "stdout",
     "output_type": "stream",
     "text": [
      "animals\n",
      "badger\n",
      "honey bee\n",
      "honeybadger\n"
     ]
    }
   ],
   "source": [
    "string1 = \"Animals\"\n",
    "string2 = \"Badger\"\n",
    "string3 = \"Honey Bee\"\n",
    "string4 = \"Honeybadger\"\n",
    "print(string1.lower())\n",
    "print(string2.lower())\n",
    "print(string3.lower())\n",
    "print(string4.lower())"
   ]
  },
  {
   "cell_type": "code",
   "execution_count": 6,
   "id": "1f753e0b-a6b8-4170-9757-41ea07d4f3a0",
   "metadata": {},
   "outputs": [
    {
     "name": "stdout",
     "output_type": "stream",
     "text": [
      "ANIMALS\n",
      "BADGER\n",
      "HONEY BEE\n",
      "HONEYBADGER\n"
     ]
    }
   ],
   "source": [
    "string1 = \"Animals\"\n",
    "string2 = \"Badger\"\n",
    "string3 = \"Honey Bee\"\n",
    "string4 = \"Honeybadger\"\n",
    "print(string1.upper())\n",
    "print(string2.upper())\n",
    "print(string3.upper())\n",
    "print(string4.upper())"
   ]
  },
  {
   "cell_type": "code",
   "execution_count": 7,
   "id": "ca7fdd74-8276-43cc-b6e9-9a216a481a54",
   "metadata": {},
   "outputs": [
    {
     "name": "stdout",
     "output_type": "stream",
     "text": [
      "Filet Mignon\n",
      "Brisket\n"
     ]
    }
   ],
   "source": [
    "string1 = \" Filet Mignon\"\n",
    "print(string1.strip())\n",
    "string2 =\" Brisket \"\n",
    "print(string2.strip())"
   ]
  },
  {
   "cell_type": "code",
   "execution_count": 8,
   "id": "54e5cb2a-4587-4507-8c45-d9662c40dd5a",
   "metadata": {},
   "outputs": [
    {
     "name": "stdout",
     "output_type": "stream",
     "text": [
      "False\n",
      "True\n"
     ]
    }
   ],
   "source": [
    "string1 = \"Becomes\"\n",
    "print(string1.startswith(\"be\"))\n",
    "string2 = \"becomes\"\n",
    "print(string2.startswith(\"be\"))"
   ]
  },
  {
   "cell_type": "code",
   "execution_count": 9,
   "id": "ca29c73b-0db4-4b6d-897e-36b7705dfb5c",
   "metadata": {},
   "outputs": [
    {
     "name": "stdout",
     "output_type": "stream",
     "text": [
      "True\n",
      "True\n"
     ]
    }
   ],
   "source": [
    "string1 = \"Becomes\"\n",
    "string1_lower = string1.lower()\n",
    "print(string1_lower.startswith(\"be\"))\n",
    "string2 = \"becomes\"\n",
    "print(string2.startswith(\"be\"))"
   ]
  },
  {
   "cell_type": "markdown",
   "id": "0d314880-97a6-4f68-9cab-bbdd712c94c9",
   "metadata": {},
   "source": [
    "# Review Question 3"
   ]
  },
  {
   "cell_type": "code",
   "execution_count": 10,
   "id": "a4bcaed4-6578-49bf-9768-adb6c492c236",
   "metadata": {},
   "outputs": [
    {
     "name": "stdin",
     "output_type": "stream",
     "text": [
      "What is your Name: Felix Vincent\n"
     ]
    },
    {
     "name": "stdout",
     "output_type": "stream",
     "text": [
      "Your name is: Felix Vincent\n"
     ]
    }
   ],
   "source": [
    "name1 = input(\"What is your Name:\")\n",
    "print(\"Your name is: \" + name1) "
   ]
  },
  {
   "cell_type": "code",
   "execution_count": 11,
   "id": "685f58bd-3e30-4908-b8cc-3a9bec332425",
   "metadata": {},
   "outputs": [
    {
     "name": "stdin",
     "output_type": "stream",
     "text": [
      "Write Anything: HELLO WORLD\n"
     ]
    },
    {
     "data": {
      "text/plain": [
       "'hello world'"
      ]
     },
     "execution_count": 11,
     "metadata": {},
     "output_type": "execute_result"
    }
   ],
   "source": [
    "string1 = input(\"Write Anything:\") \n",
    "string1_lower = string1.lower() \n",
    "string1_lower"
   ]
  },
  {
   "cell_type": "code",
   "execution_count": 12,
   "id": "04e1a580-1720-41a4-ae95-17482a7f3701",
   "metadata": {},
   "outputs": [
    {
     "name": "stdin",
     "output_type": "stream",
     "text": [
      "Write Anything: Hello World\n"
     ]
    },
    {
     "data": {
      "text/plain": [
       "11"
      ]
     },
     "execution_count": 12,
     "metadata": {},
     "output_type": "execute_result"
    }
   ],
   "source": [
    "string1 = input(\"Write Anything:\") \n",
    "string2 = len(string1) \n",
    "string2"
   ]
  },
  {
   "cell_type": "markdown",
   "id": "149bbca8-0a4c-424f-a8b9-25860b9ce850",
   "metadata": {},
   "source": [
    "# Review Question 4"
   ]
  },
  {
   "cell_type": "code",
   "execution_count": 14,
   "id": "f8047bd0-c5aa-4aae-ab2a-eb6917c98fa8",
   "metadata": {},
   "outputs": [
    {
     "name": "stdin",
     "output_type": "stream",
     "text": [
      "Tell me your name: felix\n"
     ]
    },
    {
     "name": "stdout",
     "output_type": "stream",
     "text": [
      "The First Letter of you name is F\n"
     ]
    }
   ],
   "source": [
    "string1 = input(\"Tell me your name:\")\n",
    "print(\"The First Letter of you name is \"+ string1[0].upper())"
   ]
  },
  {
   "cell_type": "markdown",
   "id": "5940bc2d-2de4-4a86-898b-b561b75c3aaf",
   "metadata": {},
   "source": [
    "# Review Question 5"
   ]
  },
  {
   "cell_type": "code",
   "execution_count": 15,
   "id": "8372d939-9127-4cc8-92d3-fced6f39fcb4",
   "metadata": {},
   "outputs": [
    {
     "data": {
      "text/plain": [
       "7"
      ]
     },
     "execution_count": 15,
     "metadata": {},
     "output_type": "execute_result"
    }
   ],
   "source": [
    "num1 = \"3\"\n",
    "num2 = \"4\"\n",
    "num3 = int(num1) + int(num2)\n",
    "(num3)"
   ]
  },
  {
   "cell_type": "code",
   "execution_count": 16,
   "id": "d38c37a2-458b-4e94-b5a5-8d3023b820d4",
   "metadata": {},
   "outputs": [
    {
     "data": {
      "text/plain": [
       "13.299999999999999"
      ]
     },
     "execution_count": 16,
     "metadata": {},
     "output_type": "execute_result"
    }
   ],
   "source": [
    "num1 = \"3.6\"\n",
    "num2 = \"9.7\"\n",
    "num3 = float(num1) + float(num2)\n",
    "(num3)"
   ]
  },
  {
   "cell_type": "code",
   "execution_count": 17,
   "id": "b9c2c9fc-72ce-48b7-bfb3-839d223d433c",
   "metadata": {},
   "outputs": [
    {
     "data": {
      "text/plain": [
       "'Felix 24'"
      ]
     },
     "execution_count": 17,
     "metadata": {},
     "output_type": "execute_result"
    }
   ],
   "source": [
    "string1 = \"Felix\"\n",
    "num1 = 24\n",
    "fave = string1 +\" \"+ str(num1)\n",
    "fave"
   ]
  },
  {
   "cell_type": "code",
   "execution_count": 18,
   "id": "3efce73a-fc76-4a03-93bf-eb1e4600a6aa",
   "metadata": {},
   "outputs": [
    {
     "name": "stdin",
     "output_type": "stream",
     "text": [
      "First Number: 3\n",
      "Second Number:  2\n"
     ]
    },
    {
     "data": {
      "text/plain": [
       "6"
      ]
     },
     "execution_count": 18,
     "metadata": {},
     "output_type": "execute_result"
    }
   ],
   "source": [
    "num1 = input(\"First Number:\")\n",
    "num2= input(\"Second Number: \")\n",
    "num3 = int(num1) * int(num2)\n",
    "num3"
   ]
  },
  {
   "cell_type": "markdown",
   "id": "2e6b6dc4-cf69-45db-8219-4b677dd8db33",
   "metadata": {},
   "source": [
    "# Review Question 6"
   ]
  },
  {
   "cell_type": "code",
   "execution_count": 19,
   "id": "797d0303-b156-4ec2-95a2-b228b893358a",
   "metadata": {},
   "outputs": [
    {
     "data": {
      "text/plain": [
       "-1"
      ]
     },
     "execution_count": 19,
     "metadata": {},
     "output_type": "execute_result"
    }
   ],
   "source": [
    "\"My Number is AAA\".find(\"a\")"
   ]
  },
  {
   "cell_type": "code",
   "execution_count": 20,
   "id": "e0c2f31f-b2d8-486c-88e8-e19260ac3e49",
   "metadata": {},
   "outputs": [
    {
     "data": {
      "text/plain": [
       "'Somebody yaid yomething to Samantha.'"
      ]
     },
     "execution_count": 20,
     "metadata": {},
     "output_type": "execute_result"
    }
   ],
   "source": [
    "phrase = \"Somebody said something to Samantha.\"\n",
    "phrase.replace(\"s\", \"y\")"
   ]
  },
  {
   "cell_type": "code",
   "execution_count": 23,
   "id": "37f322e4-e25d-4328-929d-60dd09eb0ca7",
   "metadata": {},
   "outputs": [
    {
     "name": "stdin",
     "output_type": "stream",
     "text": [
      "Enter a word: Judge\n",
      "Enter a letter to find: j\n"
     ]
    },
    {
     "data": {
      "text/plain": [
       "-1"
      ]
     },
     "execution_count": 23,
     "metadata": {},
     "output_type": "execute_result"
    }
   ],
   "source": [
    "user_input = input(\"Enter a word:\")\n",
    "user_input1 = input(\"Enter a letter to find:\")\n",
    "user_input.find(user_input1)"
   ]
  },
  {
   "cell_type": "markdown",
   "id": "030c0631-26fd-4695-b016-89785255f88b",
   "metadata": {},
   "source": [
    "# Review Question 7"
   ]
  },
  {
   "cell_type": "code",
   "execution_count": 32,
   "id": "df9812a3-5e9e-4c51-821e-e5a4ab912149",
   "metadata": {},
   "outputs": [
    {
     "name": "stdout",
     "output_type": "stream",
     "text": [
      "I 1ik3 70 347 3gg5 4nd 5p4m.\n"
     ]
    }
   ],
   "source": [
    "string1 = \"I like to eat eggs and spam.\"\n",
    "string1 = string1.replace(\"a\", \"4\")\n",
    "string1 = string1.replace(\"b\", \"8\")\n",
    "string1 = string1.replace(\"e\", \"3\")\n",
    "string1 = string1.replace(\"l\", \"1\")\n",
    "string1 = string1.replace(\"o\", \"0\")\n",
    "string1 = string1.replace(\"s\", \"5\")\n",
    "string1 = string1.replace(\"t\", \"7\")\n",
    "print(string1)\n"
   ]
  },
  {
   "cell_type": "code",
   "execution_count": null,
   "id": "e9d38b35-609d-41ae-b55d-aa19f91ef06b",
   "metadata": {},
   "outputs": [],
   "source": []
  }
 ],
 "metadata": {
  "kernelspec": {
   "display_name": "Python [conda env:myenv]",
   "language": "python",
   "name": "conda-env-myenv-py"
  },
  "language_info": {
   "codemirror_mode": {
    "name": "ipython",
    "version": 3
   },
   "file_extension": ".py",
   "mimetype": "text/x-python",
   "name": "python",
   "nbconvert_exporter": "python",
   "pygments_lexer": "ipython3",
   "version": "3.10.18"
  }
 },
 "nbformat": 4,
 "nbformat_minor": 5
}
